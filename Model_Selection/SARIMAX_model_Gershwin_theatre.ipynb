{
 "cells": [
  {
   "cell_type": "markdown",
   "id": "2e403bba-36a3-4c86-b5be-b0c7c0c7197d",
   "metadata": {
    "tags": []
   },
   "source": [
    "# Forecast weekly gross for Gershwin Theatre using SARIMAX"
   ]
  },
  {
   "cell_type": "markdown",
   "id": "3ade8c9d-561b-49b6-a490-fd3874b373da",
   "metadata": {},
   "source": [
    "For the non-exogenous parameters of the SARIMAX model, we use the values (2,1,2)x(0,1,1,52) that has been used for the SARIMA model. We choose 'avg_ticket_price' and 'possible_gross' as the exogenous variables.\n"
   ]
  },
  {
   "cell_type": "markdown",
   "id": "f88b4dfe-c4a3-429b-a304-6ba513822025",
   "metadata": {
    "tags": []
   },
   "source": [
    "## Import Statements"
   ]
  },
  {
   "cell_type": "code",
   "execution_count": 1,
   "id": "d9f08a2a-6dc5-4ef5-926d-c317b8460708",
   "metadata": {
    "tags": []
   },
   "outputs": [],
   "source": [
    "import numpy as np\n",
    "import pandas as pd\n",
    "import matplotlib.pyplot as plt\n",
    "import warnings\n",
    "import pmdarima as pm\n",
    "\n",
    "from pathlib import Path\n",
    "from pylab import rcParams\n",
    "from itertools import product\n",
    "\n",
    "from statsmodels.tsa.statespace.sarimax import SARIMAX\n",
    "\n",
    "from statsmodels.tsa.seasonal import seasonal_decompose\n",
    "from statsmodels.tools.eval_measures import rmse # Root Mean Square Error\n",
    "from sklearn.metrics import mean_squared_error as mse\n",
    "from sklearn.metrics import mean_absolute_error as mae\n",
    "from sklearn.metrics import mean_absolute_percentage_error as mape"
   ]
  },
  {
   "cell_type": "markdown",
   "id": "d10b5362-d3c5-4c7e-a38f-2040e9b4fdae",
   "metadata": {},
   "source": [
    "## Notebook Settings"
   ]
  },
  {
   "cell_type": "code",
   "execution_count": 2,
   "id": "e88d0912-4f11-4cdd-b6dc-5f58bb1d6580",
   "metadata": {
    "tags": []
   },
   "outputs": [],
   "source": [
    "warnings.filterwarnings(\"ignore\")  # hide warnings\n",
    "\n",
    "plt.style.use('ggplot')\n",
    "plt.rcParams['figure.figsize'] = [18, 10]"
   ]
  },
  {
   "cell_type": "markdown",
   "id": "e1ee3a46-176d-4210-acb3-8153bebb46ae",
   "metadata": {},
   "source": [
    "## Useful Functions"
   ]
  },
  {
   "cell_type": "code",
   "execution_count": 3,
   "id": "4ad66799-0b4e-40f3-a47a-7c704e591c14",
   "metadata": {
    "tags": []
   },
   "outputs": [],
   "source": [
    "def plot_forecast(model, start, train, test):\n",
    "    forecast = pd.DataFrame(model.forecast(test.shape[0]),index=test.index)\n",
    "    ax = train.loc[start:].plot(style='-')\n",
    "    test.plot(ax=ax, style='--')\n",
    "    forecast.plot(ax=ax)\n",
    "    ax.legend(['orig_train', 'orig_test', 'forecast'])\n",
    "    plt.savefig('new_fig.png')\n",
    "    plt.show()"
   ]
  },
  {
   "cell_type": "markdown",
   "id": "66606426-0273-4c58-9aff-fce7c4ef6350",
   "metadata": {},
   "source": [
    "## Get the Data"
   ]
  },
  {
   "cell_type": "code",
   "execution_count": 4,
   "id": "ed5811bc-6271-4703-944f-da22fa3bb268",
   "metadata": {
    "tags": []
   },
   "outputs": [],
   "source": [
    "filepath = 'grosses.csv'\n",
    "data = pd.read_csv(filepath,\n",
    "                 header=0,\n",
    "                 parse_dates=['week_ending'],\n",
    "                 index_col=0,\n",
    "                 usecols=['week_ending','theatre','weekly_gross'])\n",
    "data_e = pd.read_csv(filepath,\n",
    "                 header=0,\n",
    "                 parse_dates=['week_ending'],\n",
    "                 index_col=0,\n",
    "                 usecols=['week_ending','theatre','weekly_gross','avg_ticket_price','potential_gross'])"
   ]
  },
  {
   "cell_type": "code",
   "execution_count": 5,
   "id": "9427f8e4-7cb0-4bda-8994-0b9919ea62f0",
   "metadata": {
    "tags": []
   },
   "outputs": [],
   "source": [
    "gershwin_df = data[(data['theatre'] == 'Gershwin Theatre')]"
   ]
  },
  {
   "cell_type": "code",
   "execution_count": 6,
   "id": "79913876-53e7-45ef-801d-d8fdd58a7a51",
   "metadata": {
    "tags": []
   },
   "outputs": [],
   "source": [
    "gershwin_df_e = data_e[(data_e['theatre'] == 'Gershwin Theatre')]"
   ]
  },
  {
   "cell_type": "code",
   "execution_count": 7,
   "id": "6b30d035-6186-4e65-acb4-4fdbc5a89851",
   "metadata": {
    "tags": []
   },
   "outputs": [],
   "source": [
    "gershwin_df.drop(['theatre'], axis=1, inplace = True) "
   ]
  },
  {
   "cell_type": "code",
   "execution_count": 8,
   "id": "79735976-de24-4cd4-9fc3-4734aa586a9a",
   "metadata": {
    "tags": []
   },
   "outputs": [],
   "source": [
    "gershwin_df_e.drop(['theatre'], axis=1, inplace = True) "
   ]
  },
  {
   "cell_type": "code",
   "execution_count": 9,
   "id": "0f319dde-da83-48ea-bd25-0f93f99127b6",
   "metadata": {
    "tags": []
   },
   "outputs": [
    {
     "data": {
      "text/html": [
       "<div>\n",
       "<style scoped>\n",
       "    .dataframe tbody tr th:only-of-type {\n",
       "        vertical-align: middle;\n",
       "    }\n",
       "\n",
       "    .dataframe tbody tr th {\n",
       "        vertical-align: top;\n",
       "    }\n",
       "\n",
       "    .dataframe thead th {\n",
       "        text-align: right;\n",
       "    }\n",
       "</style>\n",
       "<table border=\"1\" class=\"dataframe\">\n",
       "  <thead>\n",
       "    <tr style=\"text-align: right;\">\n",
       "      <th></th>\n",
       "      <th>weekly_gross</th>\n",
       "      <th>potential_gross</th>\n",
       "      <th>avg_ticket_price</th>\n",
       "    </tr>\n",
       "    <tr>\n",
       "      <th>week_ending</th>\n",
       "      <th></th>\n",
       "      <th></th>\n",
       "      <th></th>\n",
       "    </tr>\n",
       "  </thead>\n",
       "  <tbody>\n",
       "    <tr>\n",
       "      <th>2013-06-02</th>\n",
       "      <td>1776282.0</td>\n",
       "      <td>1681127.0</td>\n",
       "      <td>127.36</td>\n",
       "    </tr>\n",
       "  </tbody>\n",
       "</table>\n",
       "</div>"
      ],
      "text/plain": [
       "             weekly_gross  potential_gross  avg_ticket_price\n",
       "week_ending                                                 \n",
       "2013-06-02      1776282.0        1681127.0            127.36"
      ]
     },
     "execution_count": 9,
     "metadata": {},
     "output_type": "execute_result"
    }
   ],
   "source": [
    "### We will use data for Gershwin Theatre from 2013-06-02 to 2019-05-26.\n",
    "start_date = '2013-06-02'\n",
    "#end_date = '2018-05-27'\n",
    "end_date = '2019-05-26'\n",
    "gershwin_df = gershwin_df.loc[start_date : end_date]\n",
    "gershwin_df = gershwin_df.asfreq('W')\n",
    "gershwin_df.head(1)\n",
    "gershwin_df_e = gershwin_df_e.loc[start_date : end_date]\n",
    "gershwin_df_e = gershwin_df_e.asfreq('W')\n",
    "gershwin_df_e.head(1)"
   ]
  },
  {
   "cell_type": "code",
   "execution_count": 10,
   "id": "20a58d5e-6af6-478a-923a-f4a183d9036b",
   "metadata": {
    "tags": []
   },
   "outputs": [
    {
     "data": {
      "text/html": [
       "<div>\n",
       "<style scoped>\n",
       "    .dataframe tbody tr th:only-of-type {\n",
       "        vertical-align: middle;\n",
       "    }\n",
       "\n",
       "    .dataframe tbody tr th {\n",
       "        vertical-align: top;\n",
       "    }\n",
       "\n",
       "    .dataframe thead th {\n",
       "        text-align: right;\n",
       "    }\n",
       "</style>\n",
       "<table border=\"1\" class=\"dataframe\">\n",
       "  <thead>\n",
       "    <tr style=\"text-align: right;\">\n",
       "      <th></th>\n",
       "      <th>weekly_gross</th>\n",
       "      <th>potential_gross</th>\n",
       "      <th>avg_ticket_price</th>\n",
       "    </tr>\n",
       "    <tr>\n",
       "      <th>week_ending</th>\n",
       "      <th></th>\n",
       "      <th></th>\n",
       "      <th></th>\n",
       "    </tr>\n",
       "  </thead>\n",
       "  <tbody>\n",
       "    <tr>\n",
       "      <th>2015-12-27</th>\n",
       "      <td>NaN</td>\n",
       "      <td>NaN</td>\n",
       "      <td>NaN</td>\n",
       "    </tr>\n",
       "  </tbody>\n",
       "</table>\n",
       "</div>"
      ],
      "text/plain": [
       "             weekly_gross  potential_gross  avg_ticket_price\n",
       "week_ending                                                 \n",
       "2015-12-27            NaN              NaN               NaN"
      ]
     },
     "execution_count": 10,
     "metadata": {},
     "output_type": "execute_result"
    }
   ],
   "source": [
    "gershwin_df_e[gershwin_df_e['weekly_gross'].isna()]"
   ]
  },
  {
   "cell_type": "code",
   "execution_count": 11,
   "id": "c8b75449-1aae-4a8e-9fb9-18667f87ed01",
   "metadata": {
    "tags": []
   },
   "outputs": [],
   "source": [
    "gershwin_df = gershwin_df.fillna(method='ffill')\n",
    "gershwin_df_e = gershwin_df_e.fillna(method='ffill')"
   ]
  },
  {
   "cell_type": "code",
   "execution_count": 12,
   "id": "ec738dfd-276d-44c3-a321-6a05e3de686c",
   "metadata": {
    "tags": []
   },
   "outputs": [],
   "source": [
    "y = gershwin_df.weekly_gross[261:]"
   ]
  },
  {
   "cell_type": "code",
   "execution_count": 13,
   "id": "e6af7233-dac9-4577-ae6d-229b6e23341f",
   "metadata": {
    "tags": []
   },
   "outputs": [],
   "source": [
    "model = pm.arima.ARIMA(order=(2,1,2),seasonal_order=(0,1,1,52),with_intercept=False)"
   ]
  },
  {
   "cell_type": "code",
   "execution_count": 14,
   "id": "98ed174c-a04e-4b46-87d1-60c51f5949f7",
   "metadata": {
    "tags": []
   },
   "outputs": [
    {
     "data": {
      "text/html": [
       "<style>#sk-container-id-1 {color: black;background-color: white;}#sk-container-id-1 pre{padding: 0;}#sk-container-id-1 div.sk-toggleable {background-color: white;}#sk-container-id-1 label.sk-toggleable__label {cursor: pointer;display: block;width: 100%;margin-bottom: 0;padding: 0.3em;box-sizing: border-box;text-align: center;}#sk-container-id-1 label.sk-toggleable__label-arrow:before {content: \"▸\";float: left;margin-right: 0.25em;color: #696969;}#sk-container-id-1 label.sk-toggleable__label-arrow:hover:before {color: black;}#sk-container-id-1 div.sk-estimator:hover label.sk-toggleable__label-arrow:before {color: black;}#sk-container-id-1 div.sk-toggleable__content {max-height: 0;max-width: 0;overflow: hidden;text-align: left;background-color: #f0f8ff;}#sk-container-id-1 div.sk-toggleable__content pre {margin: 0.2em;color: black;border-radius: 0.25em;background-color: #f0f8ff;}#sk-container-id-1 input.sk-toggleable__control:checked~div.sk-toggleable__content {max-height: 200px;max-width: 100%;overflow: auto;}#sk-container-id-1 input.sk-toggleable__control:checked~label.sk-toggleable__label-arrow:before {content: \"▾\";}#sk-container-id-1 div.sk-estimator input.sk-toggleable__control:checked~label.sk-toggleable__label {background-color: #d4ebff;}#sk-container-id-1 div.sk-label input.sk-toggleable__control:checked~label.sk-toggleable__label {background-color: #d4ebff;}#sk-container-id-1 input.sk-hidden--visually {border: 0;clip: rect(1px 1px 1px 1px);clip: rect(1px, 1px, 1px, 1px);height: 1px;margin: -1px;overflow: hidden;padding: 0;position: absolute;width: 1px;}#sk-container-id-1 div.sk-estimator {font-family: monospace;background-color: #f0f8ff;border: 1px dotted black;border-radius: 0.25em;box-sizing: border-box;margin-bottom: 0.5em;}#sk-container-id-1 div.sk-estimator:hover {background-color: #d4ebff;}#sk-container-id-1 div.sk-parallel-item::after {content: \"\";width: 100%;border-bottom: 1px solid gray;flex-grow: 1;}#sk-container-id-1 div.sk-label:hover label.sk-toggleable__label {background-color: #d4ebff;}#sk-container-id-1 div.sk-serial::before {content: \"\";position: absolute;border-left: 1px solid gray;box-sizing: border-box;top: 0;bottom: 0;left: 50%;z-index: 0;}#sk-container-id-1 div.sk-serial {display: flex;flex-direction: column;align-items: center;background-color: white;padding-right: 0.2em;padding-left: 0.2em;position: relative;}#sk-container-id-1 div.sk-item {position: relative;z-index: 1;}#sk-container-id-1 div.sk-parallel {display: flex;align-items: stretch;justify-content: center;background-color: white;position: relative;}#sk-container-id-1 div.sk-item::before, #sk-container-id-1 div.sk-parallel-item::before {content: \"\";position: absolute;border-left: 1px solid gray;box-sizing: border-box;top: 0;bottom: 0;left: 50%;z-index: -1;}#sk-container-id-1 div.sk-parallel-item {display: flex;flex-direction: column;z-index: 1;position: relative;background-color: white;}#sk-container-id-1 div.sk-parallel-item:first-child::after {align-self: flex-end;width: 50%;}#sk-container-id-1 div.sk-parallel-item:last-child::after {align-self: flex-start;width: 50%;}#sk-container-id-1 div.sk-parallel-item:only-child::after {width: 0;}#sk-container-id-1 div.sk-dashed-wrapped {border: 1px dashed gray;margin: 0 0.4em 0.5em 0.4em;box-sizing: border-box;padding-bottom: 0.4em;background-color: white;}#sk-container-id-1 div.sk-label label {font-family: monospace;font-weight: bold;display: inline-block;line-height: 1.2em;}#sk-container-id-1 div.sk-label-container {text-align: center;}#sk-container-id-1 div.sk-container {/* jupyter's `normalize.less` sets `[hidden] { display: none; }` but bootstrap.min.css set `[hidden] { display: none !important; }` so we also need the `!important` here to be able to override the default hidden behavior on the sphinx rendered scikit-learn.org. See: https://github.com/scikit-learn/scikit-learn/issues/21755 */display: inline-block !important;position: relative;}#sk-container-id-1 div.sk-text-repr-fallback {display: none;}</style><div id=\"sk-container-id-1\" class=\"sk-top-container\"><div class=\"sk-text-repr-fallback\"><pre> ARIMA(2,1,2)(0,1,1)[52]          </pre><b>In a Jupyter environment, please rerun this cell to show the HTML representation or trust the notebook. <br />On GitHub, the HTML representation is unable to render, please try loading this page with nbviewer.org.</b></div><div class=\"sk-container\" hidden><div class=\"sk-item\"><div class=\"sk-estimator sk-toggleable\"><input class=\"sk-toggleable__control sk-hidden--visually\" id=\"sk-estimator-id-1\" type=\"checkbox\" checked><label for=\"sk-estimator-id-1\" class=\"sk-toggleable__label sk-toggleable__label-arrow\">ARIMA</label><div class=\"sk-toggleable__content\"><pre> ARIMA(2,1,2)(0,1,1)[52]          </pre></div></div></div></div></div>"
      ],
      "text/plain": [
       "ARIMA(order=(2, 1, 2), seasonal_order=(0, 1, 1, 52), with_intercept=False)"
      ]
     },
     "execution_count": 14,
     "metadata": {},
     "output_type": "execute_result"
    }
   ],
   "source": [
    "model.fit(gershwin_df.values[0:261],X = gershwin_df_e[['avg_ticket_price','potential_gross']][0:261])"
   ]
  },
  {
   "cell_type": "code",
   "execution_count": 15,
   "id": "b8a41ab3-14bf-4f7c-8a26-61712b312bc4",
   "metadata": {
    "tags": []
   },
   "outputs": [
    {
     "data": {
      "text/html": [
       "<table class=\"simpletable\">\n",
       "<caption>SARIMAX Results</caption>\n",
       "<tr>\n",
       "  <th>Dep. Variable:</th>                   <td>y</td>                <th>  No. Observations:  </th>    <td>261</td>   \n",
       "</tr>\n",
       "<tr>\n",
       "  <th>Model:</th>           <td>SARIMAX(2, 1, 2)x(0, 1, [1], 52)</td> <th>  Log Likelihood     </th> <td>-2705.800</td>\n",
       "</tr>\n",
       "<tr>\n",
       "  <th>Date:</th>                    <td>Fri, 02 Jun 2023</td>         <th>  AIC                </th> <td>5427.599</td> \n",
       "</tr>\n",
       "<tr>\n",
       "  <th>Time:</th>                        <td>21:09:37</td>             <th>  BIC                </th> <td>5454.299</td> \n",
       "</tr>\n",
       "<tr>\n",
       "  <th>Sample:</th>                     <td>06-02-2013</td>            <th>  HQIC               </th> <td>5438.395</td> \n",
       "</tr>\n",
       "<tr>\n",
       "  <th></th>                           <td>- 05-27-2018</td>           <th>                     </th>     <td> </td>    \n",
       "</tr>\n",
       "<tr>\n",
       "  <th>Covariance Type:</th>                <td>opg</td>               <th>                     </th>     <td> </td>    \n",
       "</tr>\n",
       "</table>\n",
       "<table class=\"simpletable\">\n",
       "<tr>\n",
       "          <td></td>            <th>coef</th>     <th>std err</th>      <th>z</th>      <th>P>|z|</th>  <th>[0.025</th>    <th>0.975]</th>  \n",
       "</tr>\n",
       "<tr>\n",
       "  <th>avg_ticket_price</th> <td> 1.717e+04</td> <td>  748.787</td> <td>   22.931</td> <td> 0.000</td> <td> 1.57e+04</td> <td> 1.86e+04</td>\n",
       "</tr>\n",
       "<tr>\n",
       "  <th>potential_gross</th>  <td>    0.5731</td> <td>    0.043</td> <td>   13.237</td> <td> 0.000</td> <td>    0.488</td> <td>    0.658</td>\n",
       "</tr>\n",
       "<tr>\n",
       "  <th>ar.L1</th>            <td>    0.5506</td> <td>    0.375</td> <td>    1.467</td> <td> 0.142</td> <td>   -0.185</td> <td>    1.286</td>\n",
       "</tr>\n",
       "<tr>\n",
       "  <th>ar.L2</th>            <td>   -0.3683</td> <td>    0.297</td> <td>   -1.239</td> <td> 0.215</td> <td>   -0.951</td> <td>    0.214</td>\n",
       "</tr>\n",
       "<tr>\n",
       "  <th>ma.L1</th>            <td>   -0.6893</td> <td>    0.381</td> <td>   -1.810</td> <td> 0.070</td> <td>   -1.436</td> <td>    0.057</td>\n",
       "</tr>\n",
       "<tr>\n",
       "  <th>ma.L2</th>            <td>    0.2450</td> <td>    0.346</td> <td>    0.708</td> <td> 0.479</td> <td>   -0.433</td> <td>    0.923</td>\n",
       "</tr>\n",
       "<tr>\n",
       "  <th>ma.S.L52</th>         <td>   -0.4424</td> <td>    0.051</td> <td>   -8.609</td> <td> 0.000</td> <td>   -0.543</td> <td>   -0.342</td>\n",
       "</tr>\n",
       "<tr>\n",
       "  <th>sigma2</th>           <td>  1.14e+10</td> <td> 3.52e-05</td> <td> 3.24e+14</td> <td> 0.000</td> <td> 1.14e+10</td> <td> 1.14e+10</td>\n",
       "</tr>\n",
       "</table>\n",
       "<table class=\"simpletable\">\n",
       "<tr>\n",
       "  <th>Ljung-Box (L1) (Q):</th>     <td>3.45</td> <th>  Jarque-Bera (JB):  </th> <td>5.22</td>\n",
       "</tr>\n",
       "<tr>\n",
       "  <th>Prob(Q):</th>                <td>0.06</td> <th>  Prob(JB):          </th> <td>0.07</td>\n",
       "</tr>\n",
       "<tr>\n",
       "  <th>Heteroskedasticity (H):</th> <td>0.50</td> <th>  Skew:              </th> <td>0.06</td>\n",
       "</tr>\n",
       "<tr>\n",
       "  <th>Prob(H) (two-sided):</th>    <td>0.00</td> <th>  Kurtosis:          </th> <td>3.77</td>\n",
       "</tr>\n",
       "</table><br/><br/>Warnings:<br/>[1] Covariance matrix calculated using the outer product of gradients (complex-step).<br/>[2] Covariance matrix is singular or near-singular, with condition number 1.33e+30. Standard errors may be unstable."
      ],
      "text/plain": [
       "<class 'statsmodels.iolib.summary.Summary'>\n",
       "\"\"\"\n",
       "                                      SARIMAX Results                                       \n",
       "============================================================================================\n",
       "Dep. Variable:                                    y   No. Observations:                  261\n",
       "Model:             SARIMAX(2, 1, 2)x(0, 1, [1], 52)   Log Likelihood               -2705.800\n",
       "Date:                              Fri, 02 Jun 2023   AIC                           5427.599\n",
       "Time:                                      21:09:37   BIC                           5454.299\n",
       "Sample:                                  06-02-2013   HQIC                          5438.395\n",
       "                                       - 05-27-2018                                         \n",
       "Covariance Type:                                opg                                         \n",
       "====================================================================================\n",
       "                       coef    std err          z      P>|z|      [0.025      0.975]\n",
       "------------------------------------------------------------------------------------\n",
       "avg_ticket_price  1.717e+04    748.787     22.931      0.000    1.57e+04    1.86e+04\n",
       "potential_gross      0.5731      0.043     13.237      0.000       0.488       0.658\n",
       "ar.L1                0.5506      0.375      1.467      0.142      -0.185       1.286\n",
       "ar.L2               -0.3683      0.297     -1.239      0.215      -0.951       0.214\n",
       "ma.L1               -0.6893      0.381     -1.810      0.070      -1.436       0.057\n",
       "ma.L2                0.2450      0.346      0.708      0.479      -0.433       0.923\n",
       "ma.S.L52            -0.4424      0.051     -8.609      0.000      -0.543      -0.342\n",
       "sigma2             1.14e+10   3.52e-05   3.24e+14      0.000    1.14e+10    1.14e+10\n",
       "===================================================================================\n",
       "Ljung-Box (L1) (Q):                   3.45   Jarque-Bera (JB):                 5.22\n",
       "Prob(Q):                              0.06   Prob(JB):                         0.07\n",
       "Heteroskedasticity (H):               0.50   Skew:                             0.06\n",
       "Prob(H) (two-sided):                  0.00   Kurtosis:                         3.77\n",
       "===================================================================================\n",
       "\n",
       "Warnings:\n",
       "[1] Covariance matrix calculated using the outer product of gradients (complex-step).\n",
       "[2] Covariance matrix is singular or near-singular, with condition number 1.33e+30. Standard errors may be unstable.\n",
       "\"\"\""
      ]
     },
     "execution_count": 15,
     "metadata": {},
     "output_type": "execute_result"
    }
   ],
   "source": [
    "model.summary()"
   ]
  },
  {
   "cell_type": "code",
   "execution_count": 16,
   "id": "a4244ca7-39b8-4258-941a-ffd5f4f2d67b",
   "metadata": {
    "tags": []
   },
   "outputs": [],
   "source": [
    "preds, conf_int = model.predict(n_periods=52, X=gershwin_df_e[['avg_ticket_price','potential_gross']][261:], return_conf_int=True)"
   ]
  },
  {
   "cell_type": "code",
   "execution_count": 17,
   "id": "1fe9595e-b00a-46fe-8ae3-43d1f9103e61",
   "metadata": {
    "tags": []
   },
   "outputs": [
    {
     "data": {
      "text/plain": [
       "79974.63659809661"
      ]
     },
     "execution_count": 17,
     "metadata": {},
     "output_type": "execute_result"
    }
   ],
   "source": [
    "rmse(y,preds)"
   ]
  },
  {
   "cell_type": "code",
   "execution_count": 18,
   "id": "b3154411-3e36-4173-9468-0b1651aa8d08",
   "metadata": {
    "tags": []
   },
   "outputs": [
    {
     "data": {
      "image/png": "[encoded data removed]",
      "text/plain": [
       "<Figure size 864x288 with 1 Axes>"
      ]
     },
     "metadata": {
      "needs_background": "light"
     },
     "output_type": "display_data"
    }
   ],
   "source": [
    "n = y.shape[0]\n",
    "lower_ci, upper_ci  = zip(*conf_int)\n",
    "index = y.index\n",
    "ax = y.plot(style='--', alpha=0.6, figsize=(12,4))\n",
    "pd.Series(preds, index=index).plot(style='-', ax=ax)\n",
    "plt.fill_between(index, lower_ci, upper_ci, alpha=0.2)\n",
    "plt.legend(['test', 'forecast'])\n",
    "plt.title(\"Plotting the forecast from SARIMAX(2,1,2)(0,1,1)[52] against test data\")\n",
    "plt.savefig(\"with_external.png\")\n",
    "plt.show()"
   ]
  },
  {
   "cell_type": "code",
   "execution_count": null,
   "id": "4ffb2e9e-3ac3-4382-96b7-ab0fe016dbb1",
   "metadata": {},
   "outputs": [],
   "source": []
  }
 ],
 "metadata": {
  "kernelspec": {
   "display_name": "home",
   "language": "python",
   "name": "home"
  },
  "language_info": {
   "codemirror_mode": {
    "name": "ipython",
    "version": 3
   },
   "file_extension": ".py",
   "mimetype": "text/x-python",
   "name": "python",
   "nbconvert_exporter": "python",
   "pygments_lexer": "ipython3",
   "version": "3.11.3"
  }
 },
 "nbformat": 4,
 "nbformat_minor": 5
}
