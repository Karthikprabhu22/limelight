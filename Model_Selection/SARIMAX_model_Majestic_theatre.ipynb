{
 "cells": [
  {
   "cell_type": "markdown",
   "id": "2e403bba-36a3-4c86-b5be-b0c7c0c7197d",
   "metadata": {
    "tags": []
   },
   "source": [
    "# Forecast weekly gross for Majestic Theatre using SARIMAX"
   ]
  },
  {
   "cell_type": "markdown",
   "id": "3ade8c9d-561b-49b6-a490-fd3874b373da",
   "metadata": {},
   "source": [
    "For the non-exogenous parameters of the SARIMAX model, we use the values (2,0,1)x(1,0,1,52) that has been used for the SARIMA model. We choose 'avg_ticket_price' and 'possible_gross' as the exogenous variables.\n"
   ]
  },
  {
   "cell_type": "markdown",
   "id": "f88b4dfe-c4a3-429b-a304-6ba513822025",
   "metadata": {
    "tags": []
   },
   "source": [
    "## Import Statements"
   ]
  },
  {
   "cell_type": "code",
   "execution_count": 1,
   "id": "d9f08a2a-6dc5-4ef5-926d-c317b8460708",
   "metadata": {
    "tags": []
   },
   "outputs": [],
   "source": [
    "import numpy as np\n",
    "import pandas as pd\n",
    "import matplotlib.pyplot as plt\n",
    "import warnings\n",
    "import pmdarima as pm\n",
    "\n",
    "from pathlib import Path\n",
    "from pylab import rcParams\n",
    "from itertools import product\n",
    "\n",
    "from statsmodels.tsa.statespace.sarimax import SARIMAX\n",
    "\n",
    "from statsmodels.tsa.seasonal import seasonal_decompose\n",
    "from statsmodels.tools.eval_measures import rmse # Root Mean Square Error\n",
    "from sklearn.metrics import mean_squared_error as mse\n",
    "from sklearn.metrics import mean_absolute_error as mae\n",
    "from sklearn.metrics import mean_absolute_percentage_error as mape"
   ]
  },
  {
   "cell_type": "markdown",
   "id": "d10b5362-d3c5-4c7e-a38f-2040e9b4fdae",
   "metadata": {},
   "source": [
    "## Notebook Settings"
   ]
  },
  {
   "cell_type": "code",
   "execution_count": 2,
   "id": "e88d0912-4f11-4cdd-b6dc-5f58bb1d6580",
   "metadata": {
    "tags": []
   },
   "outputs": [],
   "source": [
    "warnings.filterwarnings(\"ignore\")  # hide warnings\n",
    "\n",
    "plt.style.use('ggplot')\n",
    "plt.rcParams['figure.figsize'] = [18, 10]"
   ]
  },
  {
   "cell_type": "markdown",
   "id": "e1ee3a46-176d-4210-acb3-8153bebb46ae",
   "metadata": {},
   "source": [
    "## Useful Functions"
   ]
  },
  {
   "cell_type": "code",
   "execution_count": 3,
   "id": "4ad66799-0b4e-40f3-a47a-7c704e591c14",
   "metadata": {
    "tags": []
   },
   "outputs": [],
   "source": [
    "def plot_forecast(model, start, train, test):\n",
    "    forecast = pd.DataFrame(model.forecast(test.shape[0]),index=test.index)\n",
    "    ax = train.loc[start:].plot(style='-')\n",
    "    test.plot(ax=ax, style='--')\n",
    "    forecast.plot(ax=ax)\n",
    "    ax.legend(['orig_train', 'orig_test', 'forecast'])\n",
    "    plt.savefig('new_fig.png')\n",
    "    plt.show()"
   ]
  },
  {
   "cell_type": "markdown",
   "id": "66606426-0273-4c58-9aff-fce7c4ef6350",
   "metadata": {},
   "source": [
    "## Get the Data"
   ]
  },
  {
   "cell_type": "code",
   "execution_count": 4,
   "id": "ed5811bc-6271-4703-944f-da22fa3bb268",
   "metadata": {
    "tags": []
   },
   "outputs": [],
   "source": [
    "filepath = 'grosses.csv'\n",
    "data = pd.read_csv(filepath,\n",
    "                 header=0,\n",
    "                 parse_dates=['week_ending'],\n",
    "                 index_col=0,\n",
    "                 usecols=['week_ending','theatre','weekly_gross'])\n",
    "data_e = pd.read_csv(filepath,\n",
    "                 header=0,\n",
    "                 parse_dates=['week_ending'],\n",
    "                 index_col=0,\n",
    "                 usecols=['week_ending','theatre','weekly_gross','avg_ticket_price','potential_gross'])"
   ]
  },
  {
   "cell_type": "code",
   "execution_count": 5,
   "id": "9427f8e4-7cb0-4bda-8994-0b9919ea62f0",
   "metadata": {
    "tags": []
   },
   "outputs": [],
   "source": [
    "majestic_df = data[(data['theatre'] == 'Majestic Theatre')]"
   ]
  },
  {
   "cell_type": "code",
   "execution_count": 6,
   "id": "79913876-53e7-45ef-801d-d8fdd58a7a51",
   "metadata": {
    "tags": []
   },
   "outputs": [],
   "source": [
    "majestic_df_e = data_e[(data_e['theatre'] == 'Majestic Theatre')]"
   ]
  },
  {
   "cell_type": "code",
   "execution_count": 7,
   "id": "6b30d035-6186-4e65-acb4-4fdbc5a89851",
   "metadata": {
    "tags": []
   },
   "outputs": [],
   "source": [
    "majestic_df.drop(['theatre'], axis=1, inplace = True) "
   ]
  },
  {
   "cell_type": "code",
   "execution_count": 8,
   "id": "79735976-de24-4cd4-9fc3-4734aa586a9a",
   "metadata": {
    "tags": []
   },
   "outputs": [],
   "source": [
    "majestic_df_e.drop(['theatre'], axis=1, inplace = True) "
   ]
  },
  {
   "cell_type": "code",
   "execution_count": 9,
   "id": "0f319dde-da83-48ea-bd25-0f93f99127b6",
   "metadata": {
    "tags": []
   },
   "outputs": [
    {
     "data": {
      "text/html": [
       "<div>\n",
       "<style scoped>\n",
       "    .dataframe tbody tr th:only-of-type {\n",
       "        vertical-align: middle;\n",
       "    }\n",
       "\n",
       "    .dataframe tbody tr th {\n",
       "        vertical-align: top;\n",
       "    }\n",
       "\n",
       "    .dataframe thead th {\n",
       "        text-align: right;\n",
       "    }\n",
       "</style>\n",
       "<table border=\"1\" class=\"dataframe\">\n",
       "  <thead>\n",
       "    <tr style=\"text-align: right;\">\n",
       "      <th></th>\n",
       "      <th>weekly_gross</th>\n",
       "      <th>potential_gross</th>\n",
       "      <th>avg_ticket_price</th>\n",
       "    </tr>\n",
       "    <tr>\n",
       "      <th>week_ending</th>\n",
       "      <th></th>\n",
       "      <th></th>\n",
       "      <th></th>\n",
       "    </tr>\n",
       "  </thead>\n",
       "  <tbody>\n",
       "    <tr>\n",
       "      <th>2013-06-02</th>\n",
       "      <td>1100715.0</td>\n",
       "      <td>1365763.0</td>\n",
       "      <td>87.6</td>\n",
       "    </tr>\n",
       "  </tbody>\n",
       "</table>\n",
       "</div>"
      ],
      "text/plain": [
       "             weekly_gross  potential_gross  avg_ticket_price\n",
       "week_ending                                                 \n",
       "2013-06-02      1100715.0        1365763.0              87.6"
      ]
     },
     "execution_count": 9,
     "metadata": {},
     "output_type": "execute_result"
    }
   ],
   "source": [
    "### We will use data for majestic Theatre from 2013-06-02 to 2019-05-26.\n",
    "start_date = '2013-06-02'\n",
    "#end_date = '2018-05-27'\n",
    "end_date = '2019-05-26'\n",
    "majestic_df = majestic_df.loc[start_date : end_date]\n",
    "majestic_df = majestic_df.asfreq('W')\n",
    "majestic_df.head(1)\n",
    "majestic_df_e = majestic_df_e.loc[start_date : end_date]\n",
    "majestic_df_e = majestic_df_e.asfreq('W')\n",
    "majestic_df_e.head(1)"
   ]
  },
  {
   "cell_type": "code",
   "execution_count": 10,
   "id": "20a58d5e-6af6-478a-923a-f4a183d9036b",
   "metadata": {
    "tags": []
   },
   "outputs": [
    {
     "data": {
      "text/html": [
       "<div>\n",
       "<style scoped>\n",
       "    .dataframe tbody tr th:only-of-type {\n",
       "        vertical-align: middle;\n",
       "    }\n",
       "\n",
       "    .dataframe tbody tr th {\n",
       "        vertical-align: top;\n",
       "    }\n",
       "\n",
       "    .dataframe thead th {\n",
       "        text-align: right;\n",
       "    }\n",
       "</style>\n",
       "<table border=\"1\" class=\"dataframe\">\n",
       "  <thead>\n",
       "    <tr style=\"text-align: right;\">\n",
       "      <th></th>\n",
       "      <th>weekly_gross</th>\n",
       "      <th>potential_gross</th>\n",
       "      <th>avg_ticket_price</th>\n",
       "    </tr>\n",
       "    <tr>\n",
       "      <th>week_ending</th>\n",
       "      <th></th>\n",
       "      <th></th>\n",
       "      <th></th>\n",
       "    </tr>\n",
       "  </thead>\n",
       "  <tbody>\n",
       "    <tr>\n",
       "      <th>2015-12-27</th>\n",
       "      <td>NaN</td>\n",
       "      <td>NaN</td>\n",
       "      <td>NaN</td>\n",
       "    </tr>\n",
       "  </tbody>\n",
       "</table>\n",
       "</div>"
      ],
      "text/plain": [
       "             weekly_gross  potential_gross  avg_ticket_price\n",
       "week_ending                                                 \n",
       "2015-12-27            NaN              NaN               NaN"
      ]
     },
     "execution_count": 10,
     "metadata": {},
     "output_type": "execute_result"
    }
   ],
   "source": [
    "majestic_df_e[majestic_df_e['weekly_gross'].isna()]"
   ]
  },
  {
   "cell_type": "code",
   "execution_count": 11,
   "id": "c8b75449-1aae-4a8e-9fb9-18667f87ed01",
   "metadata": {
    "tags": []
   },
   "outputs": [],
   "source": [
    "majestic_df = majestic_df.fillna(method='ffill')\n",
    "majestic_df_e = majestic_df_e.fillna(method='ffill')"
   ]
  },
  {
   "cell_type": "code",
   "execution_count": 12,
   "id": "8947816f-6060-4888-a79f-fb0b842e125a",
   "metadata": {
    "tags": []
   },
   "outputs": [],
   "source": [
    "y = majestic_df.weekly_gross[261:]"
   ]
  },
  {
   "cell_type": "code",
   "execution_count": 13,
   "id": "e6af7233-dac9-4577-ae6d-229b6e23341f",
   "metadata": {
    "tags": []
   },
   "outputs": [],
   "source": [
    "model = pm.arima.ARIMA(order=(2,0,1),seasonal_order=(1,0,1,52),with_intercept=False)"
   ]
  },
  {
   "cell_type": "code",
   "execution_count": 14,
   "id": "98ed174c-a04e-4b46-87d1-60c51f5949f7",
   "metadata": {
    "tags": []
   },
   "outputs": [
    {
     "data": {
      "text/html": [
       "<style>#sk-container-id-1 {color: black;background-color: white;}#sk-container-id-1 pre{padding: 0;}#sk-container-id-1 div.sk-toggleable {background-color: white;}#sk-container-id-1 label.sk-toggleable__label {cursor: pointer;display: block;width: 100%;margin-bottom: 0;padding: 0.3em;box-sizing: border-box;text-align: center;}#sk-container-id-1 label.sk-toggleable__label-arrow:before {content: \"▸\";float: left;margin-right: 0.25em;color: #696969;}#sk-container-id-1 label.sk-toggleable__label-arrow:hover:before {color: black;}#sk-container-id-1 div.sk-estimator:hover label.sk-toggleable__label-arrow:before {color: black;}#sk-container-id-1 div.sk-toggleable__content {max-height: 0;max-width: 0;overflow: hidden;text-align: left;background-color: #f0f8ff;}#sk-container-id-1 div.sk-toggleable__content pre {margin: 0.2em;color: black;border-radius: 0.25em;background-color: #f0f8ff;}#sk-container-id-1 input.sk-toggleable__control:checked~div.sk-toggleable__content {max-height: 200px;max-width: 100%;overflow: auto;}#sk-container-id-1 input.sk-toggleable__control:checked~label.sk-toggleable__label-arrow:before {content: \"▾\";}#sk-container-id-1 div.sk-estimator input.sk-toggleable__control:checked~label.sk-toggleable__label {background-color: #d4ebff;}#sk-container-id-1 div.sk-label input.sk-toggleable__control:checked~label.sk-toggleable__label {background-color: #d4ebff;}#sk-container-id-1 input.sk-hidden--visually {border: 0;clip: rect(1px 1px 1px 1px);clip: rect(1px, 1px, 1px, 1px);height: 1px;margin: -1px;overflow: hidden;padding: 0;position: absolute;width: 1px;}#sk-container-id-1 div.sk-estimator {font-family: monospace;background-color: #f0f8ff;border: 1px dotted black;border-radius: 0.25em;box-sizing: border-box;margin-bottom: 0.5em;}#sk-container-id-1 div.sk-estimator:hover {background-color: #d4ebff;}#sk-container-id-1 div.sk-parallel-item::after {content: \"\";width: 100%;border-bottom: 1px solid gray;flex-grow: 1;}#sk-container-id-1 div.sk-label:hover label.sk-toggleable__label {background-color: #d4ebff;}#sk-container-id-1 div.sk-serial::before {content: \"\";position: absolute;border-left: 1px solid gray;box-sizing: border-box;top: 0;bottom: 0;left: 50%;z-index: 0;}#sk-container-id-1 div.sk-serial {display: flex;flex-direction: column;align-items: center;background-color: white;padding-right: 0.2em;padding-left: 0.2em;position: relative;}#sk-container-id-1 div.sk-item {position: relative;z-index: 1;}#sk-container-id-1 div.sk-parallel {display: flex;align-items: stretch;justify-content: center;background-color: white;position: relative;}#sk-container-id-1 div.sk-item::before, #sk-container-id-1 div.sk-parallel-item::before {content: \"\";position: absolute;border-left: 1px solid gray;box-sizing: border-box;top: 0;bottom: 0;left: 50%;z-index: -1;}#sk-container-id-1 div.sk-parallel-item {display: flex;flex-direction: column;z-index: 1;position: relative;background-color: white;}#sk-container-id-1 div.sk-parallel-item:first-child::after {align-self: flex-end;width: 50%;}#sk-container-id-1 div.sk-parallel-item:last-child::after {align-self: flex-start;width: 50%;}#sk-container-id-1 div.sk-parallel-item:only-child::after {width: 0;}#sk-container-id-1 div.sk-dashed-wrapped {border: 1px dashed gray;margin: 0 0.4em 0.5em 0.4em;box-sizing: border-box;padding-bottom: 0.4em;background-color: white;}#sk-container-id-1 div.sk-label label {font-family: monospace;font-weight: bold;display: inline-block;line-height: 1.2em;}#sk-container-id-1 div.sk-label-container {text-align: center;}#sk-container-id-1 div.sk-container {/* jupyter's `normalize.less` sets `[hidden] { display: none; }` but bootstrap.min.css set `[hidden] { display: none !important; }` so we also need the `!important` here to be able to override the default hidden behavior on the sphinx rendered scikit-learn.org. See: https://github.com/scikit-learn/scikit-learn/issues/21755 */display: inline-block !important;position: relative;}#sk-container-id-1 div.sk-text-repr-fallback {display: none;}</style><div id=\"sk-container-id-1\" class=\"sk-top-container\"><div class=\"sk-text-repr-fallback\"><pre> ARIMA(2,0,1)(1,0,1)[52]          </pre><b>In a Jupyter environment, please rerun this cell to show the HTML representation or trust the notebook. <br />On GitHub, the HTML representation is unable to render, please try loading this page with nbviewer.org.</b></div><div class=\"sk-container\" hidden><div class=\"sk-item\"><div class=\"sk-estimator sk-toggleable\"><input class=\"sk-toggleable__control sk-hidden--visually\" id=\"sk-estimator-id-1\" type=\"checkbox\" checked><label for=\"sk-estimator-id-1\" class=\"sk-toggleable__label sk-toggleable__label-arrow\">ARIMA</label><div class=\"sk-toggleable__content\"><pre> ARIMA(2,0,1)(1,0,1)[52]          </pre></div></div></div></div></div>"
      ],
      "text/plain": [
       "ARIMA(order=(2, 0, 1), seasonal_order=(1, 0, 1, 52), with_intercept=False)"
      ]
     },
     "execution_count": 14,
     "metadata": {},
     "output_type": "execute_result"
    }
   ],
   "source": [
    "model.fit(majestic_df.values[0:261],X = majestic_df_e[['avg_ticket_price','potential_gross']][0:261])"
   ]
  },
  {
   "cell_type": "code",
   "execution_count": 15,
   "id": "b8a41ab3-14bf-4f7c-8a26-61712b312bc4",
   "metadata": {
    "tags": []
   },
   "outputs": [
    {
     "data": {
      "text/html": [
       "<table class=\"simpletable\">\n",
       "<caption>SARIMAX Results</caption>\n",
       "<tr>\n",
       "  <th>Dep. Variable:</th>                  <td>y</td>               <th>  No. Observations:  </th>    <td>261</td>   \n",
       "</tr>\n",
       "<tr>\n",
       "  <th>Model:</th>           <td>SARIMAX(2, 0, 1)x(1, 0, 1, 52)</td> <th>  Log Likelihood     </th> <td>-3308.121</td>\n",
       "</tr>\n",
       "<tr>\n",
       "  <th>Date:</th>                   <td>Fri, 02 Jun 2023</td>        <th>  AIC                </th> <td>6632.242</td> \n",
       "</tr>\n",
       "<tr>\n",
       "  <th>Time:</th>                       <td>21:12:10</td>            <th>  BIC                </th> <td>6660.758</td> \n",
       "</tr>\n",
       "<tr>\n",
       "  <th>Sample:</th>                    <td>06-02-2013</td>           <th>  HQIC               </th> <td>6643.705</td> \n",
       "</tr>\n",
       "<tr>\n",
       "  <th></th>                          <td>- 05-27-2018</td>          <th>                     </th>     <td> </td>    \n",
       "</tr>\n",
       "<tr>\n",
       "  <th>Covariance Type:</th>               <td>opg</td>              <th>                     </th>     <td> </td>    \n",
       "</tr>\n",
       "</table>\n",
       "<table class=\"simpletable\">\n",
       "<tr>\n",
       "          <td></td>            <th>coef</th>     <th>std err</th>      <th>z</th>      <th>P>|z|</th>  <th>[0.025</th>    <th>0.975]</th>  \n",
       "</tr>\n",
       "<tr>\n",
       "  <th>avg_ticket_price</th> <td> 1.827e+04</td> <td>  751.207</td> <td>   24.318</td> <td> 0.000</td> <td> 1.68e+04</td> <td> 1.97e+04</td>\n",
       "</tr>\n",
       "<tr>\n",
       "  <th>potential_gross</th>  <td>    0.4584</td> <td>    0.114</td> <td>    4.034</td> <td> 0.000</td> <td>    0.236</td> <td>    0.681</td>\n",
       "</tr>\n",
       "<tr>\n",
       "  <th>ar.L1</th>            <td>    1.2887</td> <td>    0.121</td> <td>   10.680</td> <td> 0.000</td> <td>    1.052</td> <td>    1.525</td>\n",
       "</tr>\n",
       "<tr>\n",
       "  <th>ar.L2</th>            <td>   -0.2893</td> <td>    0.121</td> <td>   -2.399</td> <td> 0.016</td> <td>   -0.526</td> <td>   -0.053</td>\n",
       "</tr>\n",
       "<tr>\n",
       "  <th>ma.L1</th>            <td>   -0.8231</td> <td>    0.078</td> <td>  -10.567</td> <td> 0.000</td> <td>   -0.976</td> <td>   -0.670</td>\n",
       "</tr>\n",
       "<tr>\n",
       "  <th>ar.S.L52</th>         <td>    0.7555</td> <td>    0.212</td> <td>    3.558</td> <td> 0.000</td> <td>    0.339</td> <td>    1.172</td>\n",
       "</tr>\n",
       "<tr>\n",
       "  <th>ma.S.L52</th>         <td>   -0.4534</td> <td>    0.294</td> <td>   -1.543</td> <td> 0.123</td> <td>   -1.029</td> <td>    0.122</td>\n",
       "</tr>\n",
       "<tr>\n",
       "  <th>sigma2</th>           <td> 8.671e+09</td> <td>    0.000</td> <td> 8.63e+13</td> <td> 0.000</td> <td> 8.67e+09</td> <td> 8.67e+09</td>\n",
       "</tr>\n",
       "</table>\n",
       "<table class=\"simpletable\">\n",
       "<tr>\n",
       "  <th>Ljung-Box (L1) (Q):</th>     <td>0.09</td> <th>  Jarque-Bera (JB):  </th> <td>2.29</td>\n",
       "</tr>\n",
       "<tr>\n",
       "  <th>Prob(Q):</th>                <td>0.77</td> <th>  Prob(JB):          </th> <td>0.32</td>\n",
       "</tr>\n",
       "<tr>\n",
       "  <th>Heteroskedasticity (H):</th> <td>1.39</td> <th>  Skew:              </th> <td>0.23</td>\n",
       "</tr>\n",
       "<tr>\n",
       "  <th>Prob(H) (two-sided):</th>    <td>0.13</td> <th>  Kurtosis:          </th> <td>2.95</td>\n",
       "</tr>\n",
       "</table><br/><br/>Warnings:<br/>[1] Covariance matrix calculated using the outer product of gradients (complex-step).<br/>[2] Covariance matrix is singular or near-singular, with condition number 5.6e+29. Standard errors may be unstable."
      ],
      "text/plain": [
       "<class 'statsmodels.iolib.summary.Summary'>\n",
       "\"\"\"\n",
       "                                     SARIMAX Results                                      \n",
       "==========================================================================================\n",
       "Dep. Variable:                                  y   No. Observations:                  261\n",
       "Model:             SARIMAX(2, 0, 1)x(1, 0, 1, 52)   Log Likelihood               -3308.121\n",
       "Date:                            Fri, 02 Jun 2023   AIC                           6632.242\n",
       "Time:                                    21:12:10   BIC                           6660.758\n",
       "Sample:                                06-02-2013   HQIC                          6643.705\n",
       "                                     - 05-27-2018                                         \n",
       "Covariance Type:                              opg                                         \n",
       "====================================================================================\n",
       "                       coef    std err          z      P>|z|      [0.025      0.975]\n",
       "------------------------------------------------------------------------------------\n",
       "avg_ticket_price  1.827e+04    751.207     24.318      0.000    1.68e+04    1.97e+04\n",
       "potential_gross      0.4584      0.114      4.034      0.000       0.236       0.681\n",
       "ar.L1                1.2887      0.121     10.680      0.000       1.052       1.525\n",
       "ar.L2               -0.2893      0.121     -2.399      0.016      -0.526      -0.053\n",
       "ma.L1               -0.8231      0.078    -10.567      0.000      -0.976      -0.670\n",
       "ar.S.L52             0.7555      0.212      3.558      0.000       0.339       1.172\n",
       "ma.S.L52            -0.4534      0.294     -1.543      0.123      -1.029       0.122\n",
       "sigma2            8.671e+09      0.000   8.63e+13      0.000    8.67e+09    8.67e+09\n",
       "===================================================================================\n",
       "Ljung-Box (L1) (Q):                   0.09   Jarque-Bera (JB):                 2.29\n",
       "Prob(Q):                              0.77   Prob(JB):                         0.32\n",
       "Heteroskedasticity (H):               1.39   Skew:                             0.23\n",
       "Prob(H) (two-sided):                  0.13   Kurtosis:                         2.95\n",
       "===================================================================================\n",
       "\n",
       "Warnings:\n",
       "[1] Covariance matrix calculated using the outer product of gradients (complex-step).\n",
       "[2] Covariance matrix is singular or near-singular, with condition number 5.6e+29. Standard errors may be unstable.\n",
       "\"\"\""
      ]
     },
     "execution_count": 15,
     "metadata": {},
     "output_type": "execute_result"
    }
   ],
   "source": [
    "model.summary()"
   ]
  },
  {
   "cell_type": "code",
   "execution_count": 16,
   "id": "a4244ca7-39b8-4258-941a-ffd5f4f2d67b",
   "metadata": {
    "tags": []
   },
   "outputs": [],
   "source": [
    "preds, conf_int = model.predict(n_periods=52, X=majestic_df_e[['avg_ticket_price','potential_gross']][261:], return_conf_int=True)"
   ]
  },
  {
   "cell_type": "code",
   "execution_count": 18,
   "id": "8d9b5db3-afac-4948-b806-6bf91dbbc826",
   "metadata": {
    "tags": []
   },
   "outputs": [
    {
     "data": {
      "text/plain": [
       "117535.18558310645"
      ]
     },
     "execution_count": 18,
     "metadata": {},
     "output_type": "execute_result"
    }
   ],
   "source": [
    "rmse(y,preds)"
   ]
  },
  {
   "cell_type": "code",
   "execution_count": 17,
   "id": "b3154411-3e36-4173-9468-0b1651aa8d08",
   "metadata": {
    "tags": []
   },
   "outputs": [
    {
     "data": {
      "image/png": "[encoded data removed]",
      "text/plain": [
       "<Figure size 864x288 with 1 Axes>"
      ]
     },
     "metadata": {
      "needs_background": "light"
     },
     "output_type": "display_data"
    }
   ],
   "source": [
    "n = y.shape[0]\n",
    "lower_ci, upper_ci  = zip(*conf_int)\n",
    "index = y.index\n",
    "ax = y.plot(style='--', alpha=0.6, figsize=(12,4))\n",
    "pd.Series(preds, index=index).plot(style='-', ax=ax)\n",
    "plt.fill_between(index, lower_ci, upper_ci, alpha=0.2)\n",
    "plt.legend(['test', 'forecast'])\n",
    "plt.title(\"Plotting the forecast from SARIMAX(2,1,2)(0,1,1)[52] against test data\")\n",
    "plt.savefig(\"with_external.png\")\n",
    "plt.show()"
   ]
  }
 ],
 "metadata": {
  "kernelspec": {
   "display_name": "home",
   "language": "python",
   "name": "home"
  },
  "language_info": {
   "codemirror_mode": {
    "name": "ipython",
    "version": 3
   },
   "file_extension": ".py",
   "mimetype": "text/x-python",
   "name": "python",
   "nbconvert_exporter": "python",
   "pygments_lexer": "ipython3",
   "version": "3.11.3"
  }
 },
 "nbformat": 4,
 "nbformat_minor": 5
}
