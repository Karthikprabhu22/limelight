{
 "cells": [
  {
   "cell_type": "markdown",
   "metadata": {},
   "source": [
    "# In this notebook we will apply AutoRegression to do time series analysis for the weekly grosses of the Majestic Theatre"
   ]
  },
  {
   "cell_type": "markdown",
   "metadata": {},
   "source": [
    "Importing necessary packages"
   ]
  },
  {
   "cell_type": "code",
   "execution_count": 2,
   "metadata": {},
   "outputs": [],
   "source": [
    "import numpy as np\n",
    "import pandas as pd\n",
    "import seaborn as sns\n",
    "import matplotlib.pyplot as plt\n",
    "\n",
    "import statsmodels.api as sm\n",
    "from statsmodels.tsa.seasonal import seasonal_decompose\n",
    "from statsmodels.tsa.ar_model import AutoReg\n",
    "from sklearn.metrics import mean_squared_error\n",
    "\n",
    "import warnings\n",
    "warnings.filterwarnings('ignore')\n",
    "\n",
    "sns.set_style(\"whitegrid\")\n"
   ]
  },
  {
   "cell_type": "markdown",
   "metadata": {},
   "source": [
    "Loading the dataset and data preprocessing"
   ]
  },
  {
   "cell_type": "code",
   "execution_count": 3,
   "metadata": {},
   "outputs": [
    {
     "data": {
      "text/html": [
       "<div>\n",
       "<style scoped>\n",
       "    .dataframe tbody tr th:only-of-type {\n",
       "        vertical-align: middle;\n",
       "    }\n",
       "\n",
       "    .dataframe tbody tr th {\n",
       "        vertical-align: top;\n",
       "    }\n",
       "\n",
       "    .dataframe thead th {\n",
       "        text-align: right;\n",
       "    }\n",
       "</style>\n",
       "<table border=\"1\" class=\"dataframe\">\n",
       "  <thead>\n",
       "    <tr style=\"text-align: right;\">\n",
       "      <th></th>\n",
       "      <th>week_ending</th>\n",
       "      <th>week_number</th>\n",
       "      <th>weekly_gross_overall</th>\n",
       "      <th>show</th>\n",
       "      <th>theatre</th>\n",
       "      <th>weekly_gross</th>\n",
       "      <th>potential_gross</th>\n",
       "      <th>avg_ticket_price</th>\n",
       "      <th>top_ticket_price</th>\n",
       "      <th>seats_sold</th>\n",
       "      <th>seats_in_theatre</th>\n",
       "      <th>pct_capacity</th>\n",
       "      <th>performances</th>\n",
       "      <th>previews</th>\n",
       "    </tr>\n",
       "  </thead>\n",
       "  <tbody>\n",
       "    <tr>\n",
       "      <th>0</th>\n",
       "      <td>1985-06-09</td>\n",
       "      <td>1</td>\n",
       "      <td>3915937.0</td>\n",
       "      <td>42nd Street</td>\n",
       "      <td>St. James Theatre</td>\n",
       "      <td>282368.0</td>\n",
       "      <td>NaN</td>\n",
       "      <td>30.42</td>\n",
       "      <td>NaN</td>\n",
       "      <td>9281</td>\n",
       "      <td>1655</td>\n",
       "      <td>0.7010</td>\n",
       "      <td>8</td>\n",
       "      <td>0</td>\n",
       "    </tr>\n",
       "    <tr>\n",
       "      <th>1</th>\n",
       "      <td>1985-06-09</td>\n",
       "      <td>1</td>\n",
       "      <td>3915937.0</td>\n",
       "      <td>A Chorus Line</td>\n",
       "      <td>Sam S. Shubert Theatre</td>\n",
       "      <td>222584.0</td>\n",
       "      <td>NaN</td>\n",
       "      <td>27.25</td>\n",
       "      <td>NaN</td>\n",
       "      <td>8167</td>\n",
       "      <td>1472</td>\n",
       "      <td>0.6935</td>\n",
       "      <td>8</td>\n",
       "      <td>0</td>\n",
       "    </tr>\n",
       "    <tr>\n",
       "      <th>2</th>\n",
       "      <td>1985-06-09</td>\n",
       "      <td>1</td>\n",
       "      <td>3915937.0</td>\n",
       "      <td>Aren't We All?</td>\n",
       "      <td>Brooks Atkinson Theatre</td>\n",
       "      <td>249272.0</td>\n",
       "      <td>NaN</td>\n",
       "      <td>33.75</td>\n",
       "      <td>NaN</td>\n",
       "      <td>7386</td>\n",
       "      <td>1088</td>\n",
       "      <td>0.8486</td>\n",
       "      <td>8</td>\n",
       "      <td>0</td>\n",
       "    </tr>\n",
       "    <tr>\n",
       "      <th>3</th>\n",
       "      <td>1985-06-09</td>\n",
       "      <td>1</td>\n",
       "      <td>3915937.0</td>\n",
       "      <td>Arms and the Man</td>\n",
       "      <td>Circle in the Square Theatre</td>\n",
       "      <td>95688.0</td>\n",
       "      <td>NaN</td>\n",
       "      <td>20.87</td>\n",
       "      <td>NaN</td>\n",
       "      <td>4586</td>\n",
       "      <td>682</td>\n",
       "      <td>0.8405</td>\n",
       "      <td>8</td>\n",
       "      <td>0</td>\n",
       "    </tr>\n",
       "    <tr>\n",
       "      <th>4</th>\n",
       "      <td>1985-06-09</td>\n",
       "      <td>1</td>\n",
       "      <td>3915937.0</td>\n",
       "      <td>As Is</td>\n",
       "      <td>Lyceum Theatre</td>\n",
       "      <td>61059.0</td>\n",
       "      <td>NaN</td>\n",
       "      <td>20.78</td>\n",
       "      <td>NaN</td>\n",
       "      <td>2938</td>\n",
       "      <td>684</td>\n",
       "      <td>0.5369</td>\n",
       "      <td>8</td>\n",
       "      <td>0</td>\n",
       "    </tr>\n",
       "  </tbody>\n",
       "</table>\n",
       "</div>"
      ],
      "text/plain": [
       "  week_ending  week_number  weekly_gross_overall              show  \\\n",
       "0  1985-06-09            1             3915937.0       42nd Street   \n",
       "1  1985-06-09            1             3915937.0     A Chorus Line   \n",
       "2  1985-06-09            1             3915937.0    Aren't We All?   \n",
       "3  1985-06-09            1             3915937.0  Arms and the Man   \n",
       "4  1985-06-09            1             3915937.0             As Is   \n",
       "\n",
       "                        theatre  weekly_gross  potential_gross  \\\n",
       "0             St. James Theatre      282368.0              NaN   \n",
       "1        Sam S. Shubert Theatre      222584.0              NaN   \n",
       "2       Brooks Atkinson Theatre      249272.0              NaN   \n",
       "3  Circle in the Square Theatre       95688.0              NaN   \n",
       "4                Lyceum Theatre       61059.0              NaN   \n",
       "\n",
       "   avg_ticket_price  top_ticket_price  seats_sold  seats_in_theatre  \\\n",
       "0             30.42               NaN        9281              1655   \n",
       "1             27.25               NaN        8167              1472   \n",
       "2             33.75               NaN        7386              1088   \n",
       "3             20.87               NaN        4586               682   \n",
       "4             20.78               NaN        2938               684   \n",
       "\n",
       "   pct_capacity  performances  previews  \n",
       "0        0.7010             8         0  \n",
       "1        0.6935             8         0  \n",
       "2        0.8486             8         0  \n",
       "3        0.8405             8         0  \n",
       "4        0.5369             8         0  "
      ]
     },
     "execution_count": 3,
     "metadata": {},
     "output_type": "execute_result"
    }
   ],
   "source": [
    "#Importing the csv file that contains the data and display first 5 entries\n",
    "df_raw = pd.read_csv('../DATA-COLLECTION/grosses.csv')\n",
    "df_raw.head(5)"
   ]
  },
  {
   "cell_type": "code",
   "execution_count": 4,
   "metadata": {},
   "outputs": [
    {
     "data": {
      "text/html": [
       "<div>\n",
       "<style scoped>\n",
       "    .dataframe tbody tr th:only-of-type {\n",
       "        vertical-align: middle;\n",
       "    }\n",
       "\n",
       "    .dataframe tbody tr th {\n",
       "        vertical-align: top;\n",
       "    }\n",
       "\n",
       "    .dataframe thead th {\n",
       "        text-align: right;\n",
       "    }\n",
       "</style>\n",
       "<table border=\"1\" class=\"dataframe\">\n",
       "  <thead>\n",
       "    <tr style=\"text-align: right;\">\n",
       "      <th></th>\n",
       "      <th>week_ending</th>\n",
       "      <th>week_number</th>\n",
       "      <th>weekly_gross_overall</th>\n",
       "      <th>show</th>\n",
       "      <th>theatre</th>\n",
       "      <th>weekly_gross</th>\n",
       "      <th>potential_gross</th>\n",
       "      <th>avg_ticket_price</th>\n",
       "      <th>top_ticket_price</th>\n",
       "      <th>seats_sold</th>\n",
       "      <th>seats_in_theatre</th>\n",
       "      <th>pct_capacity</th>\n",
       "      <th>performances</th>\n",
       "      <th>previews</th>\n",
       "    </tr>\n",
       "  </thead>\n",
       "  <tbody>\n",
       "    <tr>\n",
       "      <th>36625</th>\n",
       "      <td>2013-06-09</td>\n",
       "      <td>2</td>\n",
       "      <td>23361634.0</td>\n",
       "      <td>Ann</td>\n",
       "      <td>Vivian Beaumont Theater</td>\n",
       "      <td>227618.0</td>\n",
       "      <td>1059400.0</td>\n",
       "      <td>57.00</td>\n",
       "      <td>175.0</td>\n",
       "      <td>3993</td>\n",
       "      <td>1113</td>\n",
       "      <td>0.4485</td>\n",
       "      <td>8</td>\n",
       "      <td>0</td>\n",
       "    </tr>\n",
       "    <tr>\n",
       "      <th>36626</th>\n",
       "      <td>2013-06-09</td>\n",
       "      <td>2</td>\n",
       "      <td>23361634.0</td>\n",
       "      <td>Annie</td>\n",
       "      <td>Palace Theatre</td>\n",
       "      <td>892876.0</td>\n",
       "      <td>1398648.0</td>\n",
       "      <td>80.57</td>\n",
       "      <td>250.0</td>\n",
       "      <td>11082</td>\n",
       "      <td>1708</td>\n",
       "      <td>0.8110</td>\n",
       "      <td>8</td>\n",
       "      <td>0</td>\n",
       "    </tr>\n",
       "    <tr>\n",
       "      <th>36627</th>\n",
       "      <td>2013-06-09</td>\n",
       "      <td>2</td>\n",
       "      <td>23361634.0</td>\n",
       "      <td>Chicago</td>\n",
       "      <td>Ambassador Theatre</td>\n",
       "      <td>551149.0</td>\n",
       "      <td>1013268.0</td>\n",
       "      <td>79.66</td>\n",
       "      <td>186.0</td>\n",
       "      <td>6919</td>\n",
       "      <td>1080</td>\n",
       "      <td>0.8008</td>\n",
       "      <td>8</td>\n",
       "      <td>0</td>\n",
       "    </tr>\n",
       "    <tr>\n",
       "      <th>36628</th>\n",
       "      <td>2013-06-09</td>\n",
       "      <td>2</td>\n",
       "      <td>23361634.0</td>\n",
       "      <td>Cinderella</td>\n",
       "      <td>Broadway Theatre</td>\n",
       "      <td>888246.0</td>\n",
       "      <td>1613840.0</td>\n",
       "      <td>88.48</td>\n",
       "      <td>297.0</td>\n",
       "      <td>10039</td>\n",
       "      <td>1751</td>\n",
       "      <td>0.7167</td>\n",
       "      <td>8</td>\n",
       "      <td>0</td>\n",
       "    </tr>\n",
       "    <tr>\n",
       "      <th>36629</th>\n",
       "      <td>2013-06-09</td>\n",
       "      <td>2</td>\n",
       "      <td>23361634.0</td>\n",
       "      <td>I'll Eat You Last: A Chat With Sue Mengers</td>\n",
       "      <td>Booth Theatre</td>\n",
       "      <td>791577.0</td>\n",
       "      <td>686165.0</td>\n",
       "      <td>145.89</td>\n",
       "      <td>298.0</td>\n",
       "      <td>5426</td>\n",
       "      <td>777</td>\n",
       "      <td>0.9976</td>\n",
       "      <td>7</td>\n",
       "      <td>0</td>\n",
       "    </tr>\n",
       "  </tbody>\n",
       "</table>\n",
       "</div>"
      ],
      "text/plain": [
       "      week_ending  week_number  weekly_gross_overall  \\\n",
       "36625  2013-06-09            2            23361634.0   \n",
       "36626  2013-06-09            2            23361634.0   \n",
       "36627  2013-06-09            2            23361634.0   \n",
       "36628  2013-06-09            2            23361634.0   \n",
       "36629  2013-06-09            2            23361634.0   \n",
       "\n",
       "                                             show                  theatre  \\\n",
       "36625                                         Ann  Vivian Beaumont Theater   \n",
       "36626                                       Annie           Palace Theatre   \n",
       "36627                                     Chicago       Ambassador Theatre   \n",
       "36628                                  Cinderella         Broadway Theatre   \n",
       "36629  I'll Eat You Last: A Chat With Sue Mengers            Booth Theatre   \n",
       "\n",
       "       weekly_gross  potential_gross  avg_ticket_price  top_ticket_price  \\\n",
       "36625      227618.0        1059400.0             57.00             175.0   \n",
       "36626      892876.0        1398648.0             80.57             250.0   \n",
       "36627      551149.0        1013268.0             79.66             186.0   \n",
       "36628      888246.0        1613840.0             88.48             297.0   \n",
       "36629      791577.0         686165.0            145.89             298.0   \n",
       "\n",
       "       seats_sold  seats_in_theatre  pct_capacity  performances  previews  \n",
       "36625        3993              1113        0.4485             8         0  \n",
       "36626       11082              1708        0.8110             8         0  \n",
       "36627        6919              1080        0.8008             8         0  \n",
       "36628       10039              1751        0.7167             8         0  \n",
       "36629        5426               777        0.9976             7         0  "
      ]
     },
     "execution_count": 4,
     "metadata": {},
     "output_type": "execute_result"
    }
   ],
   "source": [
    "# Define your date range\n",
    "# Note: this includes both train and test data \n",
    "start_date = '2013-06-02'\n",
    "end_date = \"2019-05-26\"\n",
    "\n",
    "# Create a mask of the date range\n",
    "mask = (df_raw['week_ending'] > start_date) & (df_raw['week_ending'] <= end_date)\n",
    "\n",
    "# Apply the mask to the dataframe to get only rows within your date range\n",
    "df = df_raw.loc[mask]\n",
    "df.head(5)\n"
   ]
  },
  {
   "cell_type": "code",
   "execution_count": 5,
   "metadata": {},
   "outputs": [
    {
     "name": "stdout",
     "output_type": "stream",
     "text": [
      "<class 'pandas.core.frame.DataFrame'>\n",
      "Int64Index: 9647 entries, 36625 to 46271\n",
      "Data columns (total 14 columns):\n",
      " #   Column                Non-Null Count  Dtype  \n",
      "---  ------                --------------  -----  \n",
      " 0   week_ending           9647 non-null   object \n",
      " 1   week_number           9647 non-null   int64  \n",
      " 2   weekly_gross_overall  9647 non-null   float64\n",
      " 3   show                  9647 non-null   object \n",
      " 4   theatre               9647 non-null   object \n",
      " 5   weekly_gross          9647 non-null   float64\n",
      " 6   potential_gross       9647 non-null   float64\n",
      " 7   avg_ticket_price      9647 non-null   float64\n",
      " 8   top_ticket_price      9199 non-null   float64\n",
      " 9   seats_sold            9647 non-null   int64  \n",
      " 10  seats_in_theatre      9647 non-null   int64  \n",
      " 11  pct_capacity          9647 non-null   float64\n",
      " 12  performances          9647 non-null   int64  \n",
      " 13  previews              9647 non-null   int64  \n",
      "dtypes: float64(6), int64(5), object(3)\n",
      "memory usage: 1.1+ MB\n"
     ]
    }
   ],
   "source": [
    "df.info()"
   ]
  },
  {
   "cell_type": "code",
   "execution_count": 6,
   "metadata": {},
   "outputs": [],
   "source": [
    "#Converting the data from string to Datetime\n",
    "df['week_ending'] = pd.to_datetime(df['week_ending'])"
   ]
  },
  {
   "cell_type": "code",
   "execution_count": 7,
   "metadata": {},
   "outputs": [
    {
     "data": {
      "text/html": [
       "<div>\n",
       "<style scoped>\n",
       "    .dataframe tbody tr th:only-of-type {\n",
       "        vertical-align: middle;\n",
       "    }\n",
       "\n",
       "    .dataframe tbody tr th {\n",
       "        vertical-align: top;\n",
       "    }\n",
       "\n",
       "    .dataframe thead th {\n",
       "        text-align: right;\n",
       "    }\n",
       "</style>\n",
       "<table border=\"1\" class=\"dataframe\">\n",
       "  <thead>\n",
       "    <tr style=\"text-align: right;\">\n",
       "      <th></th>\n",
       "      <th>week_number</th>\n",
       "      <th>weekly_gross_overall</th>\n",
       "      <th>weekly_gross</th>\n",
       "      <th>potential_gross</th>\n",
       "      <th>avg_ticket_price</th>\n",
       "      <th>top_ticket_price</th>\n",
       "      <th>seats_sold</th>\n",
       "      <th>seats_in_theatre</th>\n",
       "      <th>pct_capacity</th>\n",
       "      <th>performances</th>\n",
       "      <th>previews</th>\n",
       "    </tr>\n",
       "  </thead>\n",
       "  <tbody>\n",
       "    <tr>\n",
       "      <th>count</th>\n",
       "      <td>9647.000000</td>\n",
       "      <td>9.647000e+03</td>\n",
       "      <td>9.647000e+03</td>\n",
       "      <td>9.647000e+03</td>\n",
       "      <td>9647.000000</td>\n",
       "      <td>9199.000000</td>\n",
       "      <td>9647.000000</td>\n",
       "      <td>9647.000000</td>\n",
       "      <td>9647.000000</td>\n",
       "      <td>9647.000000</td>\n",
       "      <td>9647.000000</td>\n",
       "    </tr>\n",
       "    <tr>\n",
       "      <th>mean</th>\n",
       "      <td>27.416088</td>\n",
       "      <td>2.927540e+07</td>\n",
       "      <td>9.250503e+05</td>\n",
       "      <td>1.218070e+06</td>\n",
       "      <td>107.203522</td>\n",
       "      <td>273.999239</td>\n",
       "      <td>8287.129056</td>\n",
       "      <td>1220.618327</td>\n",
       "      <td>0.864262</td>\n",
       "      <td>7.220483</td>\n",
       "      <td>0.615839</td>\n",
       "    </tr>\n",
       "    <tr>\n",
       "      <th>std</th>\n",
       "      <td>15.278912</td>\n",
       "      <td>6.269868e+06</td>\n",
       "      <td>5.576647e+05</td>\n",
       "      <td>4.253015e+05</td>\n",
       "      <td>48.315209</td>\n",
       "      <td>104.214424</td>\n",
       "      <td>2897.804796</td>\n",
       "      <td>338.431307</td>\n",
       "      <td>0.136578</td>\n",
       "      <td>2.274634</td>\n",
       "      <td>1.972186</td>\n",
       "    </tr>\n",
       "    <tr>\n",
       "      <th>min</th>\n",
       "      <td>1.000000</td>\n",
       "      <td>1.597796e+07</td>\n",
       "      <td>2.963800e+04</td>\n",
       "      <td>6.394900e+04</td>\n",
       "      <td>13.510000</td>\n",
       "      <td>167.000000</td>\n",
       "      <td>485.000000</td>\n",
       "      <td>576.000000</td>\n",
       "      <td>0.228300</td>\n",
       "      <td>0.000000</td>\n",
       "      <td>0.000000</td>\n",
       "    </tr>\n",
       "    <tr>\n",
       "      <th>25%</th>\n",
       "      <td>14.000000</td>\n",
       "      <td>2.517791e+07</td>\n",
       "      <td>5.449998e+05</td>\n",
       "      <td>9.454840e+05</td>\n",
       "      <td>82.030000</td>\n",
       "      <td>223.000000</td>\n",
       "      <td>6207.000000</td>\n",
       "      <td>1018.000000</td>\n",
       "      <td>0.773000</td>\n",
       "      <td>8.000000</td>\n",
       "      <td>0.000000</td>\n",
       "    </tr>\n",
       "    <tr>\n",
       "      <th>50%</th>\n",
       "      <td>28.000000</td>\n",
       "      <td>2.838812e+07</td>\n",
       "      <td>8.006480e+05</td>\n",
       "      <td>1.178736e+06</td>\n",
       "      <td>96.130000</td>\n",
       "      <td>248.000000</td>\n",
       "      <td>7992.000000</td>\n",
       "      <td>1080.000000</td>\n",
       "      <td>0.893900</td>\n",
       "      <td>8.000000</td>\n",
       "      <td>0.000000</td>\n",
       "    </tr>\n",
       "    <tr>\n",
       "      <th>75%</th>\n",
       "      <td>41.000000</td>\n",
       "      <td>3.338111e+07</td>\n",
       "      <td>1.160427e+06</td>\n",
       "      <td>1.431856e+06</td>\n",
       "      <td>121.480000</td>\n",
       "      <td>297.000000</td>\n",
       "      <td>10092.500000</td>\n",
       "      <td>1498.000000</td>\n",
       "      <td>0.985700</td>\n",
       "      <td>8.000000</td>\n",
       "      <td>0.000000</td>\n",
       "    </tr>\n",
       "    <tr>\n",
       "      <th>max</th>\n",
       "      <td>53.000000</td>\n",
       "      <td>5.780727e+07</td>\n",
       "      <td>4.041493e+06</td>\n",
       "      <td>3.559306e+06</td>\n",
       "      <td>511.580000</td>\n",
       "      <td>998.000000</td>\n",
       "      <td>24305.000000</td>\n",
       "      <td>1932.000000</td>\n",
       "      <td>1.058500</td>\n",
       "      <td>17.000000</td>\n",
       "      <td>8.000000</td>\n",
       "    </tr>\n",
       "  </tbody>\n",
       "</table>\n",
       "</div>"
      ],
      "text/plain": [
       "       week_number  weekly_gross_overall  weekly_gross  potential_gross  \\\n",
       "count  9647.000000          9.647000e+03  9.647000e+03     9.647000e+03   \n",
       "mean     27.416088          2.927540e+07  9.250503e+05     1.218070e+06   \n",
       "std      15.278912          6.269868e+06  5.576647e+05     4.253015e+05   \n",
       "min       1.000000          1.597796e+07  2.963800e+04     6.394900e+04   \n",
       "25%      14.000000          2.517791e+07  5.449998e+05     9.454840e+05   \n",
       "50%      28.000000          2.838812e+07  8.006480e+05     1.178736e+06   \n",
       "75%      41.000000          3.338111e+07  1.160427e+06     1.431856e+06   \n",
       "max      53.000000          5.780727e+07  4.041493e+06     3.559306e+06   \n",
       "\n",
       "       avg_ticket_price  top_ticket_price    seats_sold  seats_in_theatre  \\\n",
       "count       9647.000000       9199.000000   9647.000000       9647.000000   \n",
       "mean         107.203522        273.999239   8287.129056       1220.618327   \n",
       "std           48.315209        104.214424   2897.804796        338.431307   \n",
       "min           13.510000        167.000000    485.000000        576.000000   \n",
       "25%           82.030000        223.000000   6207.000000       1018.000000   \n",
       "50%           96.130000        248.000000   7992.000000       1080.000000   \n",
       "75%          121.480000        297.000000  10092.500000       1498.000000   \n",
       "max          511.580000        998.000000  24305.000000       1932.000000   \n",
       "\n",
       "       pct_capacity  performances     previews  \n",
       "count   9647.000000   9647.000000  9647.000000  \n",
       "mean       0.864262      7.220483     0.615839  \n",
       "std        0.136578      2.274634     1.972186  \n",
       "min        0.228300      0.000000     0.000000  \n",
       "25%        0.773000      8.000000     0.000000  \n",
       "50%        0.893900      8.000000     0.000000  \n",
       "75%        0.985700      8.000000     0.000000  \n",
       "max        1.058500     17.000000     8.000000  "
      ]
     },
     "execution_count": 7,
     "metadata": {},
     "output_type": "execute_result"
    }
   ],
   "source": [
    "#Checking that minimum value of weekly gross > 0\n",
    "df.describe()"
   ]
  },
  {
   "cell_type": "code",
   "execution_count": 8,
   "metadata": {},
   "outputs": [
    {
     "data": {
      "text/plain": [
       "array(['Al Hirschfeld Theatre', 'Ambassador Theatre',\n",
       "       'American Airlines Theatre', 'August Wilson Theatre',\n",
       "       'Belasco Theatre', 'Bernard B. Jacobs Theatre', 'Booth Theatre',\n",
       "       'Broadhurst Theatre', 'Broadway Theatre',\n",
       "       'Brooks Atkinson Theatre', 'Circle in the Square Theatre',\n",
       "       'Cort Theatre', 'Ethel Barrymore Theatre',\n",
       "       \"Eugene O'Neill Theatre\", 'Foxwoods Theatre',\n",
       "       'Gerald Schoenfeld Theatre', 'Gershwin Theatre',\n",
       "       'Helen Hayes Theater', 'Helen Hayes Theatre', 'Hudson Theatre',\n",
       "       'Imperial Theatre', 'John Golden Theatre', 'Longacre Theatre',\n",
       "       'Lunt-Fontanne Theatre', 'Lyceum Theatre', 'Lyric Theatre',\n",
       "       'Majestic Theatre', 'Marquis Theatre', 'Minskoff Theatre',\n",
       "       'Music Box Theatre', 'Nederlander Theatre', 'Neil Simon Theatre',\n",
       "       'New Amsterdam Theatre', 'Palace Theatre',\n",
       "       'Richard Rodgers Theatre', 'Sam S. Shubert Theatre',\n",
       "       'Samuel J. Friedman Theatre', 'St. James Theatre',\n",
       "       'Stephen Sondheim Theatre', 'Studio 54', 'Vivian Beaumont Theater',\n",
       "       'Walter Kerr Theatre', 'Winter Garden Theatre'], dtype='<U28')"
      ]
     },
     "execution_count": 8,
     "metadata": {},
     "output_type": "execute_result"
    }
   ],
   "source": [
    "np.sort(list(df['theatre'].unique()))\n"
   ]
  },
  {
   "cell_type": "code",
   "execution_count": 9,
   "metadata": {},
   "outputs": [
    {
     "data": {
      "text/plain": [
       "41"
      ]
     },
     "execution_count": 9,
     "metadata": {},
     "output_type": "execute_result"
    }
   ],
   "source": [
    "#Alternate spelling fixed\n",
    "df.replace('Helen Hayes Theater', 'Helen Hayes Theatre', inplace=True)\n",
    "df.replace('Foxwoods Theatre', 'Lyric Theatre', inplace=True)\n",
    "df['theatre'].unique().__len__()\n"
   ]
  },
  {
   "cell_type": "code",
   "execution_count": 10,
   "metadata": {},
   "outputs": [
    {
     "data": {
      "text/plain": [
       "theatre\n",
       "Majestic Theatre                311\n",
       "Ambassador Theatre              311\n",
       "Minskoff Theatre                311\n",
       "Gershwin Theatre                311\n",
       "Eugene O'Neill Theatre          311\n",
       "Stephen Sondheim Theatre        306\n",
       "Al Hirschfeld Theatre           304\n",
       "Sam S. Shubert Theatre          292\n",
       "August Wilson Theatre           285\n",
       "New Amsterdam Theatre           279\n",
       "Broadhurst Theatre              277\n",
       "Richard Rodgers Theatre         271\n",
       "Music Box Theatre               260\n",
       "Bernard B. Jacobs Theatre       258\n",
       "Brooks Atkinson Theatre         257\n",
       "Lunt-Fontanne Theatre           247\n",
       "Lyceum Theatre                  247\n",
       "Ethel Barrymore Theatre         243\n",
       "Broadway Theatre                234\n",
       "Imperial Theatre                234\n",
       "Walter Kerr Theatre             234\n",
       "Circle in the Square Theatre    233\n",
       "Gerald Schoenfeld Theatre       232\n",
       "Winter Garden Theatre           218\n",
       "American Airlines Theatre       218\n",
       "Longacre Theatre                217\n",
       "St. James Theatre               216\n",
       "Samuel J. Friedman Theatre      214\n",
       "Lyric Theatre                   205\n",
       "Studio 54                       199\n",
       "Nederlander Theatre             197\n",
       "Neil Simon Theatre              196\n",
       "Belasco Theatre                 195\n",
       "Palace Theatre                  193\n",
       "Booth Theatre                   193\n",
       "Vivian Beaumont Theater         190\n",
       "John Golden Theatre             190\n",
       "Cort Theatre                    170\n",
       "Marquis Theatre                 154\n",
       "Helen Hayes Theatre             145\n",
       "Hudson Theatre                   89\n",
       "dtype: int64"
      ]
     },
     "execution_count": 10,
     "metadata": {},
     "output_type": "execute_result"
    }
   ],
   "source": [
    "#Entries for each theatre in the dataset\n",
    "lengths = df.groupby('theatre').size()\n",
    "lengths.sort_values(ascending=False)"
   ]
  },
  {
   "cell_type": "code",
   "execution_count": 11,
   "metadata": {},
   "outputs": [
    {
     "name": "stdout",
     "output_type": "stream",
     "text": [
      "Number of weeks between 2013-06-09 00:00:00 and 2019-05-26 00:00:00  =  311\n"
     ]
    }
   ],
   "source": [
    "# Number of weeks withing this timeframe\n",
    "diff = df['week_ending'].max() - df['week_ending'].min()\n",
    "weeks = diff.days // 7 \n",
    "\n",
    "print(\"Number of weeks between\",df['week_ending'].min(), \"and\", df['week_ending'].max(), \" = \",  weeks)"
   ]
  },
  {
   "cell_type": "code",
   "execution_count": 12,
   "metadata": {},
   "outputs": [],
   "source": [
    "#Make a new dataset for Majestic Theatre\n",
    "df_majestic = df[df['theatre']=='Majestic Theatre'].reset_index()"
   ]
  },
  {
   "cell_type": "code",
   "execution_count": 13,
   "metadata": {},
   "outputs": [
    {
     "name": "stdout",
     "output_type": "stream",
     "text": [
      "Missing weeks: week_ending\n",
      "2015-12-27    0\n",
      "Freq: W-SUN, dtype: int64\n"
     ]
    }
   ],
   "source": [
    "# Check for missing data\n",
    "# Set week_ending as the index\n",
    "df_majestic.set_index('week_ending', inplace=True)\n",
    "\n",
    "# Resample to weekly frequency, Sunday based\n",
    "resampled_df = df_majestic.resample('W-SUN').size()\n",
    "\n",
    "# Find missing weeks\n",
    "missing_weeks = resampled_df[resampled_df == 0]\n",
    "\n",
    "print(\"Missing weeks:\", missing_weeks)\n"
   ]
  },
  {
   "cell_type": "code",
   "execution_count": 14,
   "metadata": {},
   "outputs": [],
   "source": [
    "df_majestic = df_majestic.resample('W').asfreq()\n",
    "df_majestic['weekly_gross'] = df_majestic['weekly_gross'].bfill()\n"
   ]
  },
  {
   "cell_type": "code",
   "execution_count": 15,
   "metadata": {},
   "outputs": [
    {
     "name": "stdout",
     "output_type": "stream",
     "text": [
      "Number of duplicate weeks:  0\n"
     ]
    }
   ],
   "source": [
    "# Check for duplicates\n",
    "duplicate_weeks = df_majestic.index.duplicated()\n",
    "\n",
    "print(\"Number of duplicate weeks: \", duplicate_weeks.sum())\n"
   ]
  },
  {
   "cell_type": "markdown",
   "metadata": {},
   "source": [
    "# Data visualization"
   ]
  },
  {
   "cell_type": "code",
   "execution_count": 16,
   "metadata": {},
   "outputs": [
    {
     "data": {
      "image/png": "[encoded data removed]",
      "text/plain": [
       "<Figure size 720x432 with 1 Axes>"
      ]
     },
     "metadata": {
      "needs_background": "light"
     },
     "output_type": "display_data"
    }
   ],
   "source": [
    "#Always a good idea to visualize the trends and patterns in the data.\n",
    "plt.figure(figsize=(10, 6))\n",
    "plt.plot(df_majestic['weekly_gross'])\n",
    "plt.title('Majestic Theatre Weekly Gross Over Time')\n",
    "plt.ylabel('Weekly Gross')\n",
    "plt.xlabel('Week Ending')\n",
    "plt.grid(True)\n",
    "plt.show()\n"
   ]
  },
  {
   "cell_type": "markdown",
   "metadata": {},
   "source": [
    "# Decompose the Time Series\n",
    "Decomposing the time series into trend, seasonality, and residuals. The seasonal_decompose function can use two models - additive and multiplicative, which are different ways of combining these components to obtain the original time series. "
   ]
  },
  {
   "cell_type": "code",
   "execution_count": 17,
   "metadata": {},
   "outputs": [
    {
     "data": {
      "image/png": "[encoded data removed]",
      "text/plain": [
       "<Figure size 432x288 with 4 Axes>"
      ]
     },
     "metadata": {
      "needs_background": "light"
     },
     "output_type": "display_data"
    }
   ],
   "source": [
    "decomposed = seasonal_decompose(df_majestic['weekly_gross'], model='additive')\n",
    "decomposed.plot()\n",
    "plt.show()\n"
   ]
  },
  {
   "cell_type": "markdown",
   "metadata": {},
   "source": [
    "Residual: The residual is what's left after the trend and seasonal components are removed from the data. It's the random variation that's left, which should ideally be white noise (i.e., random with a mean of 0) if the trend and seasonality have been fully captured. It's also where you might find unusual anomalies or outliers in your data."
   ]
  },
  {
   "cell_type": "markdown",
   "metadata": {},
   "source": [
    "# Check for Stationarity\n",
    "Many time series models assume the underlying data are stationary. We will use the Augmented Dickey-Fuller test to check this. If the p-value is less than your significance level (commonly 0.05), you would reject the null hypothesis and could assume the time series is stationary."
   ]
  },
  {
   "cell_type": "code",
   "execution_count": 18,
   "metadata": {},
   "outputs": [
    {
     "name": "stdout",
     "output_type": "stream",
     "text": [
      "ADF Statistic: -5.389888508596542\n",
      "p-value: 3.556839463756709e-06\n"
     ]
    }
   ],
   "source": [
    "from statsmodels.tsa.stattools import adfuller\n",
    "\n",
    "adf_result = adfuller(df['weekly_gross'])\n",
    "\n",
    "print(f'ADF Statistic: {adf_result[0]}')\n",
    "print(f'p-value: {adf_result[1]}')\n"
   ]
  },
  {
   "cell_type": "markdown",
   "metadata": {},
   "source": [
    "p<0.05. Therefore, it is stationary."
   ]
  },
  {
   "cell_type": "markdown",
   "metadata": {},
   "source": [
    "# Auto Regressive model\n",
    "The autoregressive (AR) model predicts future behavior based on past behavior. The main idea is to predict future values based on n previous values, where n is controlled by the lags parameter. We need to find the optimal lag parameter and we iterate values up to max_lag=100"
   ]
  },
  {
   "cell_type": "code",
   "execution_count": 19,
   "metadata": {},
   "outputs": [],
   "source": [
    "data = df_majestic['weekly_gross']\n",
    "\n",
    "train_data = data[1:len(data)-52] #5 years\n",
    "test_data = data[len(data)-52:] #1 year\n"
   ]
  },
  {
   "cell_type": "code",
   "execution_count": 20,
   "metadata": {},
   "outputs": [
    {
     "name": "stdout",
     "output_type": "stream",
     "text": [
      "Best AR model has lag = 51 with MSE = 191664.404\n"
     ]
    }
   ],
   "source": [
    "# Define the maximum number of lags that you want to check\n",
    "max_lag = 53\n",
    "\n",
    "# Placeholder for the best parameters and the corresponding MSE\n",
    "best_rmse, best_lag = np.inf, None\n",
    "\n",
    "# Loop over all possible lags and find the best one\n",
    "for lag in range(1, max_lag+1):\n",
    "    # Fit the model\n",
    "    model = AutoReg(train_data, lags=lag)\n",
    "    model_fit = model.fit()\n",
    "\n",
    "    # Make predictions\n",
    "    predictions = model_fit.predict(start=len(train_data), end=len(train_data) + len(test_data)-1)\n",
    "    \n",
    "\n",
    "    # Calculate RMSE\n",
    "    rmse = np.sqrt(mean_squared_error(test_data, predictions))\n",
    "\n",
    "    # If this MSE is the best we've seen, save this lag\n",
    "    if rmse < best_rmse:\n",
    "        best_rmse, best_lag = rmse, lag\n",
    "\n",
    "print('Best AR model has lag = %d with MSE = %.3f' % (best_lag, best_rmse))\n"
   ]
  },
  {
   "cell_type": "code",
   "execution_count": 21,
   "metadata": {},
   "outputs": [],
   "source": [
    "# Fit the model with the best lag\n",
    "model = AutoReg(train_data, lags=best_lag)\n",
    "model_fit = model.fit()\n",
    "\n",
    "# Get the predictions and associated confidence intervals\n",
    "predictions = model_fit.get_prediction(\n",
    "    start=len(train_data), end=len(train_data) + len(test_data)-1)\n",
    "pred_conf = predictions.conf_int()\n"
   ]
  },
  {
   "cell_type": "code",
   "execution_count": 22,
   "metadata": {},
   "outputs": [
    {
     "data": {
      "image/png": "[encoded data removed]",
      "text/plain": [
       "<Figure size 720x360 with 1 Axes>"
      ]
     },
     "metadata": {
      "needs_background": "light"
     },
     "output_type": "display_data"
    }
   ],
   "source": [
    "# Plot the data, forecast, and confidence intervals\n",
    "plt.figure(figsize=(10, 5))\n",
    "plt.plot(test_data.index, test_data, label='test')\n",
    "plt.plot(predictions.predicted_mean.index,\n",
    "         predictions.predicted_mean, label='forecast')\n",
    "plt.fill_between(pred_conf.index,\n",
    "                 pred_conf.iloc[:, 0],\n",
    "                 pred_conf.iloc[:, 1], color='k', alpha=.15)\n",
    "plt.title('Forecast vs Actuals')\n",
    "plt.legend(loc='upper left', fontsize=8)\n",
    "plt.show()\n"
   ]
  },
  {
   "cell_type": "code",
   "execution_count": 23,
   "metadata": {},
   "outputs": [
    {
     "name": "stdout",
     "output_type": "stream",
     "text": [
      "Test RMSE: 191664.404\n"
     ]
    }
   ],
   "source": [
    "# Predicted values\n",
    "predicted_values = predictions.predicted_mean\n",
    "\n",
    "# Calculate RMSE\n",
    "rmse = np.sqrt(mean_squared_error(test_data, predicted_values))\n",
    "print('Test RMSE: %.3f' % rmse)"
   ]
  },
  {
   "cell_type": "markdown",
   "metadata": {},
   "source": [
    "Honestly, for a base model, RMSE of $150,000 over a period of 1 year is too good to be true."
   ]
  },
  {
   "cell_type": "code",
   "execution_count": 25,
   "metadata": {},
   "outputs": [
    {
     "name": "stdout",
     "output_type": "stream",
     "text": [
      "That's an error of :  18.425805233780228 % per year\n"
     ]
    }
   ],
   "source": [
    "print(\"That's an error of : \", rmse/np.mean(test_data)*100, \"% per year\")"
   ]
  },
  {
   "cell_type": "markdown",
   "metadata": {},
   "source": [
    "Does this make sense???"
   ]
  }
 ],
 "metadata": {
  "kernelspec": {
   "display_name": "Python 3",
   "language": "python",
   "name": "python3"
  },
  "language_info": {
   "codemirror_mode": {
    "name": "ipython",
    "version": 3
   },
   "file_extension": ".py",
   "mimetype": "text/x-python",
   "name": "python",
   "nbconvert_exporter": "python",
   "pygments_lexer": "ipython3",
   "version": "3.8.5"
  }
 },
 "nbformat": 4,
 "nbformat_minor": 5
}
