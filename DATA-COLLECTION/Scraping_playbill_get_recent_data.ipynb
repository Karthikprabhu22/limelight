{
 "cells": [
  {
   "cell_type": "code",
   "execution_count": 84,
   "metadata": {
    "id": "XbEe3M1EHyoh"
   },
   "outputs": [],
   "source": [
    "import requests  ## used for requesting to access the HTML webpage\n",
    "import matplotlib.pyplot as plt \n",
    "import numpy as np \n",
    "import pandas as pd \n",
    "import bs4 ## used for web scrapping\n",
    "from bs4 import BeautifulSoup \n",
    "import datetime ## used for working with datetime formats\n",
    "import re\n",
    "from seaborn import set_style\n",
    "set_style('whitegrid')\n",
    "from time import sleep\n",
    "import warnings\n",
    "warnings.filterwarnings(\"ignore\")"
   ]
  },
  {
   "cell_type": "markdown",
   "metadata": {
    "tags": []
   },
   "source": [
    "# Get recent data from playbill.com\n",
    "\n",
    "Get weekly data from **08-05-2022 to 2023-05-14.**"
   ]
  },
  {
   "cell_type": "markdown",
   "metadata": {},
   "source": [
    "An example url for playbill is https://www.playbill.com/grosses?week=2023-02-19.\n",
    "We can see that at each url we can find data in a table and the link is formatted as `https://www.playbill.com/grosses?week=\"`+ `date` where `date` represents the last day of the week (Sunday) and it is formatted as year-month-day."
   ]
  },
  {
   "cell_type": "code",
   "execution_count": 85,
   "metadata": {},
   "outputs": [],
   "source": [
    "start = datetime.datetime.strptime(\"2022-05-08\", \"%Y-%m-%d\")\n",
    "end = datetime.datetime.strptime(\"2023-05-14\", \"%Y-%m-%d\")\n",
    "dates_to_scrape = list(pd.date_range(start, end, freq='W'))"
   ]
  },
  {
   "cell_type": "code",
   "execution_count": 86,
   "metadata": {},
   "outputs": [
    {
     "data": {
      "text/plain": [
       "Timestamp('2022-05-08 00:00:00', freq='W-SUN')"
      ]
     },
     "execution_count": 86,
     "metadata": {},
     "output_type": "execute_result"
    }
   ],
   "source": [
    "dates_to_scrape[0]"
   ]
  },
  {
   "cell_type": "code",
   "execution_count": 87,
   "metadata": {},
   "outputs": [],
   "source": [
    "dates_to_scrape  = [(str(date_timestamp)).split()[0] for date_timestamp in dates_to_scrape]"
   ]
  },
  {
   "cell_type": "code",
   "execution_count": 88,
   "metadata": {
    "tags": []
   },
   "outputs": [
    {
     "data": {
      "text/plain": [
       "54"
      ]
     },
     "execution_count": 88,
     "metadata": {},
     "output_type": "execute_result"
    }
   ],
   "source": [
    "len(dates_to_scrape)"
   ]
  },
  {
   "cell_type": "code",
   "execution_count": 89,
   "metadata": {},
   "outputs": [
    {
     "data": {
      "text/plain": [
       "'2022-05-08'"
      ]
     },
     "execution_count": 89,
     "metadata": {},
     "output_type": "execute_result"
    }
   ],
   "source": [
    "dates_to_scrape[0]"
   ]
  },
  {
   "cell_type": "markdown",
   "metadata": {},
   "source": [
    "# Scraping begins.."
   ]
  },
  {
   "cell_type": "code",
   "execution_count": 90,
   "metadata": {},
   "outputs": [],
   "source": [
    "show_names=[]\n",
    "potential_gross=[]\n",
    "seats_sold=[]\n",
    "previews=[]\n",
    "cap=[]\n",
    "diff=[]\n",
    "diff_cap=[]\n",
    "top_ticket=[]\n",
    "avg_ticket=[]\n",
    "seats_in_theatre=[]\n",
    "theatre_name=[]\n",
    "dates = []"
   ]
  },
  {
   "cell_type": "code",
   "execution_count": 91,
   "metadata": {
    "colab": {
     "base_uri": "https://localhost:8080/",
     "height": 449
    },
    "id": "hWZ2Ee5nH49x",
    "outputId": "2ee18e72-840d-40ea-c3c2-8fe3628d04c2"
   },
   "outputs": [
    {
     "name": "stdout",
     "output_type": "stream",
     "text": [
      "2022-05-08:https://www.playbill.com/grosses?week=2022-05-08\n",
      "2022-05-15:https://www.playbill.com/grosses?week=2022-05-15\n",
      "2022-05-22:https://www.playbill.com/grosses?week=2022-05-22\n",
      "2022-05-29:https://www.playbill.com/grosses?week=2022-05-29\n",
      "2022-06-05:https://www.playbill.com/grosses?week=2022-06-05\n",
      "2022-06-12:https://www.playbill.com/grosses?week=2022-06-12\n",
      "2022-06-19:https://www.playbill.com/grosses?week=2022-06-19\n",
      "2022-06-26:https://www.playbill.com/grosses?week=2022-06-26\n",
      "2022-07-03:https://www.playbill.com/grosses?week=2022-07-03\n",
      "2022-07-10:https://www.playbill.com/grosses?week=2022-07-10\n",
      "2022-07-17:https://www.playbill.com/grosses?week=2022-07-17\n",
      "2022-07-24:https://www.playbill.com/grosses?week=2022-07-24\n",
      "2022-07-31:https://www.playbill.com/grosses?week=2022-07-31\n",
      "2022-08-07:https://www.playbill.com/grosses?week=2022-08-07\n",
      "2022-08-14:https://www.playbill.com/grosses?week=2022-08-14\n",
      "2022-08-21:https://www.playbill.com/grosses?week=2022-08-21\n",
      "2022-08-28:https://www.playbill.com/grosses?week=2022-08-28\n",
      "2022-09-04:https://www.playbill.com/grosses?week=2022-09-04\n",
      "2022-09-11:https://www.playbill.com/grosses?week=2022-09-11\n",
      "2022-09-18:https://www.playbill.com/grosses?week=2022-09-18\n",
      "2022-09-25:https://www.playbill.com/grosses?week=2022-09-25\n",
      "2022-10-02:https://www.playbill.com/grosses?week=2022-10-02\n",
      "2022-10-09:https://www.playbill.com/grosses?week=2022-10-09\n",
      "2022-10-16:https://www.playbill.com/grosses?week=2022-10-16\n",
      "2022-10-23:https://www.playbill.com/grosses?week=2022-10-23\n",
      "2022-10-30:https://www.playbill.com/grosses?week=2022-10-30\n",
      "2022-11-06:https://www.playbill.com/grosses?week=2022-11-06\n",
      "2022-11-13:https://www.playbill.com/grosses?week=2022-11-13\n",
      "2022-11-20:https://www.playbill.com/grosses?week=2022-11-20\n",
      "2022-11-27:https://www.playbill.com/grosses?week=2022-11-27\n",
      "2022-12-04:https://www.playbill.com/grosses?week=2022-12-04\n",
      "2022-12-11:https://www.playbill.com/grosses?week=2022-12-11\n",
      "2022-12-18:https://www.playbill.com/grosses?week=2022-12-18\n",
      "2022-12-25:https://www.playbill.com/grosses?week=2022-12-25\n",
      "2023-01-01:https://www.playbill.com/grosses?week=2023-01-01\n",
      "2023-01-08:https://www.playbill.com/grosses?week=2023-01-08\n",
      "2023-01-15:https://www.playbill.com/grosses?week=2023-01-15\n",
      "2023-01-22:https://www.playbill.com/grosses?week=2023-01-22\n",
      "2023-01-29:https://www.playbill.com/grosses?week=2023-01-29\n",
      "2023-02-05:https://www.playbill.com/grosses?week=2023-02-05\n",
      "2023-02-12:https://www.playbill.com/grosses?week=2023-02-12\n",
      "2023-02-19:https://www.playbill.com/grosses?week=2023-02-19\n",
      "2023-02-26:https://www.playbill.com/grosses?week=2023-02-26\n",
      "2023-03-05:https://www.playbill.com/grosses?week=2023-03-05\n",
      "2023-03-12:https://www.playbill.com/grosses?week=2023-03-12\n",
      "2023-03-19:https://www.playbill.com/grosses?week=2023-03-19\n",
      "2023-03-26:https://www.playbill.com/grosses?week=2023-03-26\n",
      "2023-04-02:https://www.playbill.com/grosses?week=2023-04-02\n",
      "2023-04-09:https://www.playbill.com/grosses?week=2023-04-09\n",
      "2023-04-16:https://www.playbill.com/grosses?week=2023-04-16\n",
      "2023-04-23:https://www.playbill.com/grosses?week=2023-04-23\n",
      "2023-04-30:https://www.playbill.com/grosses?week=2023-04-30\n",
      "2023-05-07:https://www.playbill.com/grosses?week=2023-05-07\n",
      "2023-05-14:https://www.playbill.com/grosses?week=2023-05-14\n"
     ]
    }
   ],
   "source": [
    "base_url = \"https://www.playbill.com/grosses?week=\"\n",
    "for date in dates_to_scrape: ## Iteration for every week in dates_to_scrape (08-05-2022 to 2023-05-14)\n",
    "    \n",
    "    url = base_url + str(date)\n",
    "    print(str(date) + \":\" + url)\n",
    "    \n",
    "    html = requests.get(url)\n",
    "    soup = BeautifulSoup(html.content, 'html.parser') ##Using Beautiful Soup from bs4 package to read the webpage\n",
    "    table = soup.find('tbody')  ## soup.find searches for the table from webpage\n",
    "    rows = table.find_all('tr') ## searches rows (tr is the HTML code for rows)\n",
    "    for row in rows:\n",
    "        \n",
    "        cols=row.find_all('td')\n",
    "        cols=[x.text.strip() for x in cols]    ## Scrapping values\n",
    "        \n",
    "        dates.append(date)\n",
    "        show_names.append(cols[0].split('\\n')[0])\n",
    "        potential_gross.append(cols[1])\n",
    "        diff.append(cols[2])\n",
    "        avg_ticket.append(cols[3].split('\\n')[0])\n",
    "        seats_sold.append(cols[4].split('\\n')[0])\n",
    "        seats_in_theatre.append(cols[4].split('\\n')[1])\n",
    "        previews.append(cols[5].split('\\n')[0])\n",
    "        cap.append(cols[6])\n",
    "        diff_cap.append(cols[7])"
   ]
  },
  {
   "cell_type": "code",
   "execution_count": 128,
   "metadata": {},
   "outputs": [],
   "source": [
    "## Having scrapped all the relevant data, converting the data into a dataframe\n",
    "df = pd.DataFrame({'Date': dates,\n",
    "                   'Show_name':show_names, \n",
    "                   'Potential_Gross':potential_gross,\n",
    "                   'Difference':diff,\n",
    "                   'Average_ticket':avg_ticket,\n",
    "                   'Seats_Sold':seats_sold,\n",
    "                   'Seats_in_theater':seats_in_theatre,\n",
    "                   'Previews':previews,\n",
    "                   '%cap':cap,\n",
    "                   'diff_cap':diff_cap})"
   ]
  },
  {
   "cell_type": "code",
   "execution_count": 129,
   "metadata": {
    "colab": {
     "base_uri": "https://localhost:8080/",
     "height": 189
    },
    "id": "0SC8_9IuVKGW",
    "outputId": "be3d3415-54bd-4290-89bf-c826a48a6f45"
   },
   "outputs": [
    {
     "data": {
      "text/html": [
       "<div>\n",
       "<style scoped>\n",
       "    .dataframe tbody tr th:only-of-type {\n",
       "        vertical-align: middle;\n",
       "    }\n",
       "\n",
       "    .dataframe tbody tr th {\n",
       "        vertical-align: top;\n",
       "    }\n",
       "\n",
       "    .dataframe thead th {\n",
       "        text-align: right;\n",
       "    }\n",
       "</style>\n",
       "<table border=\"1\" class=\"dataframe\">\n",
       "  <thead>\n",
       "    <tr style=\"text-align: right;\">\n",
       "      <th></th>\n",
       "      <th>Date</th>\n",
       "      <th>Show_name</th>\n",
       "      <th>Potential_Gross</th>\n",
       "      <th>Difference</th>\n",
       "      <th>Average_ticket</th>\n",
       "      <th>Seats_Sold</th>\n",
       "      <th>Seats_in_theater</th>\n",
       "      <th>Previews</th>\n",
       "      <th>%cap</th>\n",
       "      <th>diff_cap</th>\n",
       "    </tr>\n",
       "  </thead>\n",
       "  <tbody>\n",
       "    <tr>\n",
       "      <th>0</th>\n",
       "      <td>2022-05-08</td>\n",
       "      <td>Aladdin</td>\n",
       "      <td>$1,091,385.55</td>\n",
       "      <td>$125,858.37</td>\n",
       "      <td>$83.17</td>\n",
       "      <td>13,123</td>\n",
       "      <td>1,727</td>\n",
       "      <td>8</td>\n",
       "      <td>94.98%</td>\n",
       "      <td>4.39%</td>\n",
       "    </tr>\n",
       "    <tr>\n",
       "      <th>1</th>\n",
       "      <td>2022-05-08</td>\n",
       "      <td>American Buffalo</td>\n",
       "      <td>$514,501.63</td>\n",
       "      <td>-$14,344.67</td>\n",
       "      <td>$109.80</td>\n",
       "      <td>4,686</td>\n",
       "      <td>751</td>\n",
       "      <td>8</td>\n",
       "      <td>78.00%</td>\n",
       "      <td>0.94%</td>\n",
       "    </tr>\n",
       "    <tr>\n",
       "      <th>2</th>\n",
       "      <td>2022-05-08</td>\n",
       "      <td>Beetlejuice</td>\n",
       "      <td>$900,622.50</td>\n",
       "      <td>$24,883.90</td>\n",
       "      <td>$111.99</td>\n",
       "      <td>8,042</td>\n",
       "      <td>1,602</td>\n",
       "      <td>8</td>\n",
       "      <td>62.75%</td>\n",
       "      <td>5.51%</td>\n",
       "    </tr>\n",
       "    <tr>\n",
       "      <th>3</th>\n",
       "      <td>2022-05-08</td>\n",
       "      <td>Birthday Candles</td>\n",
       "      <td>$264,076.00</td>\n",
       "      <td>-$22,311.00</td>\n",
       "      <td>$72.87</td>\n",
       "      <td>3,624</td>\n",
       "      <td>727</td>\n",
       "      <td>8</td>\n",
       "      <td>62.31%</td>\n",
       "      <td>-5.16%</td>\n",
       "    </tr>\n",
       "    <tr>\n",
       "      <th>4</th>\n",
       "      <td>2022-05-08</td>\n",
       "      <td>The Book of Mormon</td>\n",
       "      <td>$905,752.71</td>\n",
       "      <td>$48,571.74</td>\n",
       "      <td>$115.02</td>\n",
       "      <td>7,875</td>\n",
       "      <td>1,066</td>\n",
       "      <td>8</td>\n",
       "      <td>92.34%</td>\n",
       "      <td>6.61%</td>\n",
       "    </tr>\n",
       "  </tbody>\n",
       "</table>\n",
       "</div>"
      ],
      "text/plain": [
       "         Date           Show_name Potential_Gross   Difference Average_ticket  \\\n",
       "0  2022-05-08             Aladdin   $1,091,385.55  $125,858.37         $83.17   \n",
       "1  2022-05-08    American Buffalo     $514,501.63  -$14,344.67        $109.80   \n",
       "2  2022-05-08         Beetlejuice     $900,622.50   $24,883.90        $111.99   \n",
       "3  2022-05-08    Birthday Candles     $264,076.00  -$22,311.00         $72.87   \n",
       "4  2022-05-08  The Book of Mormon     $905,752.71   $48,571.74        $115.02   \n",
       "\n",
       "  Seats_Sold Seats_in_theater Previews    %cap diff_cap  \n",
       "0     13,123            1,727        8  94.98%    4.39%  \n",
       "1      4,686              751        8  78.00%    0.94%  \n",
       "2      8,042            1,602        8  62.75%    5.51%  \n",
       "3      3,624              727        8  62.31%   -5.16%  \n",
       "4      7,875            1,066        8  92.34%    6.61%  "
      ]
     },
     "execution_count": 129,
     "metadata": {},
     "output_type": "execute_result"
    }
   ],
   "source": [
    "df.head()"
   ]
  },
  {
   "cell_type": "markdown",
   "metadata": {},
   "source": [
    "# Data Cleaning"
   ]
  },
  {
   "cell_type": "code",
   "execution_count": 130,
   "metadata": {
    "id": "C-hRkoXHtl4q"
   },
   "outputs": [
    {
     "data": {
      "text/plain": [
       "str"
      ]
     },
     "execution_count": 130,
     "metadata": {},
     "output_type": "execute_result"
    }
   ],
   "source": [
    "type(df['Average_ticket'][0])"
   ]
  },
  {
   "cell_type": "code",
   "execution_count": 131,
   "metadata": {
    "id": "nh-txtkhbhds"
   },
   "outputs": [],
   "source": [
    "df.replace(',','', regex=True, inplace=True)  ## Removing commas into the strings\n",
    "df.replace('%','', regex=True, inplace=True)  ## Removing the % sign into the strings\n",
    "\n",
    "df['Average_ticket']=df['Average_ticket'].str.replace('$', '')\n",
    "df[\"Seats_Sold\"] = pd.to_numeric(df[\"Seats_Sold\"], downcast=\"float\")\n",
    "df[\"Seats_in_theater\"] = pd.to_numeric(df[\"Seats_in_theater\"], downcast=\"float\")\n",
    "df[\"Previews\"] = pd.to_numeric(df[\"Previews\"], downcast=\"float\")\n",
    "df[\"%cap\"] = pd.to_numeric(df[\"%cap\"], downcast=\"float\")\n",
    "df[\"diff_cap\"] = pd.to_numeric(df[\"diff_cap\"], downcast=\"float\")\n",
    "\n",
    "df[\"Potential_Gross\"]= df[\"Potential_Gross\"].str.replace('$', '')\n",
    "df[\"Potential_Gross\"] = pd.to_numeric(df[\"Potential_Gross\"], downcast=\"float\")\n",
    "\n",
    "df[\"Difference\"]= df[\"Difference\"].str.replace('$', '')"
   ]
  },
  {
   "cell_type": "code",
   "execution_count": 132,
   "metadata": {},
   "outputs": [
    {
     "data": {
      "text/html": [
       "<div>\n",
       "<style scoped>\n",
       "    .dataframe tbody tr th:only-of-type {\n",
       "        vertical-align: middle;\n",
       "    }\n",
       "\n",
       "    .dataframe tbody tr th {\n",
       "        vertical-align: top;\n",
       "    }\n",
       "\n",
       "    .dataframe thead th {\n",
       "        text-align: right;\n",
       "    }\n",
       "</style>\n",
       "<table border=\"1\" class=\"dataframe\">\n",
       "  <thead>\n",
       "    <tr style=\"text-align: right;\">\n",
       "      <th></th>\n",
       "      <th>Date</th>\n",
       "      <th>Show_name</th>\n",
       "      <th>Potential_Gross</th>\n",
       "      <th>Difference</th>\n",
       "      <th>Average_ticket</th>\n",
       "      <th>Seats_Sold</th>\n",
       "      <th>Seats_in_theater</th>\n",
       "      <th>Previews</th>\n",
       "      <th>%cap</th>\n",
       "      <th>diff_cap</th>\n",
       "    </tr>\n",
       "  </thead>\n",
       "  <tbody>\n",
       "    <tr>\n",
       "      <th>0</th>\n",
       "      <td>2022-05-08</td>\n",
       "      <td>Aladdin</td>\n",
       "      <td>1091385.55</td>\n",
       "      <td>125858.37</td>\n",
       "      <td>83.17</td>\n",
       "      <td>13123.0</td>\n",
       "      <td>1727.0</td>\n",
       "      <td>8.0</td>\n",
       "      <td>94.980003</td>\n",
       "      <td>4.39</td>\n",
       "    </tr>\n",
       "    <tr>\n",
       "      <th>1</th>\n",
       "      <td>2022-05-08</td>\n",
       "      <td>American Buffalo</td>\n",
       "      <td>514501.63</td>\n",
       "      <td>-14344.67</td>\n",
       "      <td>109.80</td>\n",
       "      <td>4686.0</td>\n",
       "      <td>751.0</td>\n",
       "      <td>8.0</td>\n",
       "      <td>78.000000</td>\n",
       "      <td>0.94</td>\n",
       "    </tr>\n",
       "  </tbody>\n",
       "</table>\n",
       "</div>"
      ],
      "text/plain": [
       "         Date         Show_name  Potential_Gross Difference Average_ticket  \\\n",
       "0  2022-05-08           Aladdin       1091385.55  125858.37          83.17   \n",
       "1  2022-05-08  American Buffalo        514501.63  -14344.67         109.80   \n",
       "\n",
       "   Seats_Sold  Seats_in_theater  Previews       %cap  diff_cap  \n",
       "0     13123.0            1727.0       8.0  94.980003      4.39  \n",
       "1      4686.0             751.0       8.0  78.000000      0.94  "
      ]
     },
     "execution_count": 132,
     "metadata": {},
     "output_type": "execute_result"
    }
   ],
   "source": [
    "df.head(2)"
   ]
  },
  {
   "cell_type": "markdown",
   "metadata": {},
   "source": [
    "# Save data in a csv file"
   ]
  },
  {
   "cell_type": "code",
   "execution_count": 133,
   "metadata": {
    "id": "SEQdMbuLJ7yP"
   },
   "outputs": [],
   "source": [
    "df.to_csv('../recent_54_weeks_data.csv', index=False)"
   ]
  }
 ],
 "metadata": {
  "colab": {
   "collapsed_sections": [],
   "name": "Scraping_final_code.ipynb",
   "provenance": []
  },
  "kernelspec": {
   "display_name": "Python 3 (ipykernel)",
   "language": "python",
   "name": "python3"
  },
  "language_info": {
   "codemirror_mode": {
    "name": "ipython",
    "version": 3
   },
   "file_extension": ".py",
   "mimetype": "text/x-python",
   "name": "python",
   "nbconvert_exporter": "python",
   "pygments_lexer": "ipython3",
   "version": "3.9.13"
  }
 },
 "nbformat": 4,
 "nbformat_minor": 4
}
